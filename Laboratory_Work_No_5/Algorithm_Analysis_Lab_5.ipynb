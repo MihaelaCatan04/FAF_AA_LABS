{
  "nbformat": 4,
  "nbformat_minor": 0,
  "metadata": {
    "colab": {
      "provenance": [],
      "authorship_tag": "ABX9TyNur+WNnQsa2fzXjHAYm30/",
      "include_colab_link": true
    },
    "kernelspec": {
      "name": "python3",
      "display_name": "Python 3"
    },
    "language_info": {
      "name": "python"
    }
  },
  "cells": [
    {
      "cell_type": "markdown",
      "metadata": {
        "id": "view-in-github",
        "colab_type": "text"
      },
      "source": [
        "<a href=\"https://colab.research.google.com/github/MihaelaCatan04/FAF_AA_LABS/blob/main/Laboratory_Work_No_5/Algorithm_Analysis_Lab_5.ipynb\" target=\"_parent\"><img src=\"https://colab.research.google.com/assets/colab-badge.svg\" alt=\"Open In Colab\"/></a>"
      ]
    },
    {
      "cell_type": "markdown",
      "source": [
        "## Prim's Algorithm\n"
      ],
      "metadata": {
        "id": "O_ZUg_TUcEzz"
      }
    },
    {
      "cell_type": "markdown",
      "source": [
        "Prim's algorithm is a minimum spanning tree algorithm that takes a graph as input and finds the subset of the edges of that graph whichc form a tree that includes every vertex and has the minimum sum of weights among all the trees that can be formed from the graph."
      ],
      "metadata": {
        "id": "Fuvc-x5IcO-4"
      }
    },
    {
      "cell_type": "markdown",
      "source": [
        "It falls under a class of algorithms called greedy algorithms that find the local optimum in the hopes of finding a global optimum.\n",
        "\n",
        "We start from one vertex and keep adding edges with the lowest weight until we reach our goal.\n",
        "\n",
        "The steps for implementing Prim's algorithm are as follows:\n",
        "\n",
        "1. Initialize the minimum spanning tree with a vertex chosen at random.\n",
        "2. Find all the edges that connect the tree to new vertices, find the minimum and add it to the tree\n",
        "3. Keep repeating step 2 until we get a minimum spanning tree"
      ],
      "metadata": {
        "id": "jHrJYy6IcaGM"
      }
    },
    {
      "cell_type": "code",
      "source": [
        "def prim(graph, start):\n",
        "    visited = set()\n",
        "    mst = []\n",
        "    edges = []\n",
        "\n",
        "    visited.add(start)\n",
        "\n",
        "    for dest, weight in graph[start].items():\n",
        "        edges.append((start, dest, weight))\n",
        "\n",
        "    while edges:\n",
        "        min_edge = None\n",
        "        for edge in edges:\n",
        "            if min_edge is None or edge[2] < min_edge[2]:\n",
        "                min_edge = edge\n",
        "        edges.remove(min_edge)\n",
        "\n",
        "        src, dest, weight = min_edge\n",
        "\n",
        "        if dest in visited:\n",
        "            continue\n",
        "\n",
        "        mst.append((src, dest, weight))\n",
        "        visited.add(dest)\n",
        "\n",
        "        for next_dest, next_weight in graph[dest].items():\n",
        "            if next_dest not in visited:\n",
        "                edges.append((dest, next_dest, next_weight))\n",
        "\n",
        "    return mst"
      ],
      "metadata": {
        "id": "ZKV4uTvecgYV"
      },
      "execution_count": null,
      "outputs": []
    },
    {
      "cell_type": "code",
      "source": [
        "graph = {\n",
        "    '0': {'1': 1, '2': 2},\n",
        "    '1': {'0': 1, '3': 3, '4': 4},\n",
        "    '2': {'0': 2},\n",
        "    '3': {'1': 3},\n",
        "    '4': {'1': 4, '2': 5}\n",
        "}\n",
        "\n",
        "mst = prim(graph, '0')\n",
        "print(\"Minimum Spanning Tree:\", mst)"
      ],
      "metadata": {
        "colab": {
          "base_uri": "https://localhost:8080/"
        },
        "id": "4rPcCC5AdA1y",
        "outputId": "7c73e805-d4d5-4b09-f928-24f74b065cdc"
      },
      "execution_count": null,
      "outputs": [
        {
          "output_type": "stream",
          "name": "stdout",
          "text": [
            "Minimum Spanning Tree: [('0', '1', 1), ('0', '2', 2), ('1', '3', 3), ('1', '4', 4)]\n"
          ]
        }
      ]
    },
    {
      "cell_type": "markdown",
      "source": [
        "**Optimized Prim's Algorithm:**"
      ],
      "metadata": {
        "id": "BsDA_rm_cq-z"
      }
    },
    {
      "cell_type": "markdown",
      "source": [
        "This version of Prim's Algorithm is more optimized because:\n",
        "1. It sorts the edges at every iteration (`edges.sort()`), allowing you to pop the smallest edge in constant time. This ensures the process remains efficient despite the repeated sorting.\n",
        "\n",
        "\n",
        "2. Sorting the edges upfront minimizes the number of iterations needed to find the smallest edge.\n"
      ],
      "metadata": {
        "id": "o5bN2qdcctYr"
      }
    },
    {
      "cell_type": "code",
      "source": [
        "def prim_optimized(graph, start):\n",
        "  visited = set([start])\n",
        "  edges = []\n",
        "  mst = []\n",
        "\n",
        "  for dest, weight in graph[start].items():\n",
        "    edges.append((weight, start, dest))\n",
        "  edges.sort()\n",
        "  while edges:\n",
        "    weight, src, dest = edges.pop(0)\n",
        "\n",
        "    if dest in visited:\n",
        "      continue\n",
        "\n",
        "    mst.append((src, dest, weight))\n",
        "    visited.add(dest)\n",
        "\n",
        "    for next_dest, next_weight in graph[dest].items():\n",
        "      if next_dest not in visited:\n",
        "        edges.append((next_weight, dest, next_dest))\n",
        "\n",
        "    edges.sort()\n",
        "\n",
        "  return mst"
      ],
      "metadata": {
        "id": "9OgvTzJ9r0Ko"
      },
      "execution_count": null,
      "outputs": []
    },
    {
      "cell_type": "code",
      "source": [
        "graph = {\n",
        "    '0': {'1': 1, '2': 2},\n",
        "    '1': {'0': 1, '3': 3, '4': 4},\n",
        "    '2': {'0': 2},\n",
        "    '3': {'1': 3},\n",
        "    '4': {'1': 4, '2': 5}\n",
        "}\n",
        "\n",
        "mst = prim_optimized(graph, '0')\n",
        "print(\"Minimum Spanning Tree:\", mst)"
      ],
      "metadata": {
        "colab": {
          "base_uri": "https://localhost:8080/"
        },
        "id": "TV-3W7MytEC0",
        "outputId": "337fa7f3-d40b-4895-c68f-9968f6eeb723"
      },
      "execution_count": null,
      "outputs": [
        {
          "output_type": "stream",
          "name": "stdout",
          "text": [
            "Minimum Spanning Tree: [('0', '1', 1), ('0', '2', 2), ('1', '3', 3), ('1', '4', 4)]\n"
          ]
        }
      ]
    },
    {
      "cell_type": "markdown",
      "source": [
        "The time complexity of Prim's algorithm is `O(V2)`."
      ],
      "metadata": {
        "id": "ceX0xL8ItalX"
      }
    },
    {
      "cell_type": "markdown",
      "source": [
        "**Visualization:**"
      ],
      "metadata": {
        "id": "yS9996ZG0g0F"
      }
    },
    {
      "cell_type": "code",
      "source": [
        "import networkx as nx\n",
        "import matplotlib.pyplot as plt\n",
        "from matplotlib.animation import FuncAnimation"
      ],
      "metadata": {
        "id": "oXa7QCfJ6H80"
      },
      "execution_count": null,
      "outputs": []
    },
    {
      "cell_type": "code",
      "source": [
        "graph = {\n",
        "    '0': {'1': 4, '2': 2, '5': 3},\n",
        "    '1': {'0': 4, '3': 5, '4': 1, '6': 2},\n",
        "    '2': {'0': 2, '4': 3, '7': 6},\n",
        "    '3': {'1': 5, '8': 2},\n",
        "    '4': {'1': 1, '2': 3, '3': 8, '9': 7},\n",
        "    '5': {'0': 3, '6': 2, '10': 4},\n",
        "    '6': {'1': 2, '5': 2, '7': 1, '11': 5},\n",
        "    '7': {'2': 6, '6': 1, '8': 3, '12': 4},\n",
        "    '8': {'3': 2, '7': 3, '13': 6},\n",
        "    '9': {'4': 7, '14': 4},\n",
        "    '10': {'5': 4},\n",
        "    '11': {'6': 5},\n",
        "    '12': {'7': 4},\n",
        "    '13': {'8': 6},\n",
        "    '14': {'9': 4},\n",
        "}"
      ],
      "metadata": {
        "id": "m2AZgM3Y6J93"
      },
      "execution_count": null,
      "outputs": []
    },
    {
      "cell_type": "code",
      "source": [
        "def prim_optimized_with_steps(graph, start):\n",
        "    visited = set([start])\n",
        "    edges = []\n",
        "    mst = []\n",
        "    steps = []\n",
        "\n",
        "    steps.append({\n",
        "        'event': 'initialize',\n",
        "        'node': start,\n",
        "        'visited': visited.copy(),\n",
        "        'mst': mst.copy(),\n",
        "        'current_edges': [],\n",
        "        'all_edges': []\n",
        "    })\n",
        "\n",
        "    initial_edges = []\n",
        "    for dest, weight in graph[start].items():\n",
        "        initial_edges.append((weight, start, dest))\n",
        "\n",
        "    steps.append({\n",
        "        'event': 'add_edges',\n",
        "        'node': start,\n",
        "        'visited': visited.copy(),\n",
        "        'mst': mst.copy(),\n",
        "        'current_edges': [],\n",
        "        'all_edges': initial_edges.copy(),\n",
        "        'unsorted': True\n",
        "    })\n",
        "\n",
        "    initial_edges.sort()\n",
        "    edges = initial_edges.copy()\n",
        "\n",
        "    steps.append({\n",
        "        'event': 'sort_edges',\n",
        "        'visited': visited.copy(),\n",
        "        'mst': mst.copy(),\n",
        "        'current_edges': [],\n",
        "        'all_edges': edges.copy()\n",
        "    })\n",
        "\n",
        "    while edges:\n",
        "        weight, src, dest = edges[0]\n",
        "        current_edges = [(src, dest, weight)]\n",
        "\n",
        "        steps.append({\n",
        "            'event': 'select_edge',\n",
        "            'visited': visited.copy(),\n",
        "            'mst': mst.copy(),\n",
        "            'current_edges': current_edges,\n",
        "            'all_edges': edges.copy()\n",
        "        })\n",
        "\n",
        "        edges.pop(0)\n",
        "\n",
        "        if dest in visited:\n",
        "            steps.append({\n",
        "                'event': 'skip_edge',\n",
        "                'visited': visited.copy(),\n",
        "                'mst': mst.copy(),\n",
        "                'current_edges': current_edges,\n",
        "                'all_edges': edges.copy()\n",
        "            })\n",
        "            continue\n",
        "\n",
        "        mst.append((src, dest, weight))\n",
        "        visited.add(dest)\n",
        "\n",
        "        steps.append({\n",
        "            'event': 'add_to_mst',\n",
        "            'node': dest,\n",
        "            'visited': visited.copy(),\n",
        "            'mst': mst.copy(),\n",
        "            'current_edges': current_edges,\n",
        "            'all_edges': edges.copy()\n",
        "        })\n",
        "\n",
        "        new_edges = []\n",
        "        for next_dest, next_weight in graph[dest].items():\n",
        "            if next_dest not in visited:\n",
        "                new_edge = (next_weight, dest, next_dest)\n",
        "                edges.append(new_edge)\n",
        "                new_edges.append((dest, next_dest, next_weight))\n",
        "\n",
        "        if new_edges:\n",
        "            steps.append({\n",
        "                'event': 'add_edges',\n",
        "                'node': dest,\n",
        "                'visited': visited.copy(),\n",
        "                'mst': mst.copy(),\n",
        "                'current_edges': new_edges,\n",
        "                'all_edges': edges.copy(),\n",
        "                'unsorted': True\n",
        "            })\n",
        "\n",
        "            edges.sort()\n",
        "\n",
        "            steps.append({\n",
        "                'event': 'sort_edges',\n",
        "                'visited': visited.copy(),\n",
        "                'mst': mst.copy(),\n",
        "                'current_edges': [],\n",
        "                'all_edges': edges.copy()\n",
        "            })\n",
        "\n",
        "    return steps"
      ],
      "metadata": {
        "id": "zaWSCkf86NYx"
      },
      "execution_count": null,
      "outputs": []
    },
    {
      "cell_type": "code",
      "source": [
        "G = nx.Graph()\n",
        "for node, neighbors in graph.items():\n",
        "    for neighbor, weight in neighbors.items():\n",
        "        G.add_edge(node, neighbor, weight=weight)\n",
        "\n",
        "traversal_steps = prim_optimized_with_steps(graph, '0')\n",
        "\n",
        "node_colors = {\n",
        "    'unvisited': 'lightblue',\n",
        "    'visited': 'lightgreen',\n",
        "    'current': 'orange'\n",
        "}\n",
        "\n",
        "edge_colors = {\n",
        "    'unvisited': 'lightgray',\n",
        "    'mst': 'green',\n",
        "    'candidate': 'blue',\n",
        "    'current': 'red',\n",
        "    'rejected': 'orange',\n",
        "    'unsorted': 'purple'\n",
        "}\n",
        "\n",
        "plt.figure(figsize=(12, 8))\n",
        "pos = nx.spring_layout(G, seed=42)\n"
      ],
      "metadata": {
        "id": "bsIktofP6YiP"
      },
      "execution_count": null,
      "outputs": []
    },
    {
      "cell_type": "code",
      "source": [
        "def update(frame):\n",
        "    plt.clf()\n",
        "    step = traversal_steps[frame]\n",
        "    event = step['event']\n",
        "    visited_nodes = step['visited']\n",
        "    mst_edges = step['mst']\n",
        "    current_edges = step['current_edges']\n",
        "    unsorted = step.get('unsorted', False)\n",
        "\n",
        "    node_color_map = []\n",
        "    for node in G.nodes():\n",
        "        if event in ['add_to_mst', 'add_edges'] and 'node' in step and node == step['node']:\n",
        "            node_color_map.append(node_colors['current'])\n",
        "        elif node in visited_nodes:\n",
        "            node_color_map.append(node_colors['visited'])\n",
        "        else:\n",
        "            node_color_map.append(node_colors['unvisited'])\n",
        "\n",
        "    edge_color_map = []\n",
        "    edge_width_map = []\n",
        "\n",
        "    for u, v in G.edges():\n",
        "        edge = None\n",
        "        for src, dest, _ in mst_edges:\n",
        "            if (u == src and v == dest) or (u == dest and v == src):\n",
        "                edge = 'mst'\n",
        "                break\n",
        "\n",
        "        if edge != 'mst':\n",
        "            for src, dest, _ in current_edges:\n",
        "                if (u == src and v == dest) or (u == dest and v == src):\n",
        "                    if event == 'skip_edge':\n",
        "                        edge = 'rejected'\n",
        "                    else:\n",
        "                        edge = 'current'\n",
        "                    break\n",
        "\n",
        "            if edge is None:\n",
        "                for weight, src, dest in step['all_edges']:\n",
        "                    if (u == src and v == dest) or (u == dest and v == src):\n",
        "                        edge = 'unsorted' if unsorted else 'candidate'\n",
        "                        break\n",
        "\n",
        "        if edge is None:\n",
        "            edge = 'unvisited'\n",
        "\n",
        "        edge_color_map.append(edge_colors[edge])\n",
        "        edge_width_map.append(4 if edge in ['mst', 'current', 'rejected'] else 1)\n",
        "\n",
        "    nx.draw(G, pos, with_labels=True, node_color=node_color_map,\n",
        "            edge_color=edge_color_map, width=edge_width_map,\n",
        "            node_size=700, font_size=18, font_weight='bold')\n",
        "\n",
        "    edge_labels = nx.get_edge_attributes(G, 'weight')\n",
        "    nx.draw_networkx_edge_labels(G, pos, edge_labels=edge_labels, font_size=14)\n",
        "\n",
        "    plt.title(f\"Optimized Prim's Algorithm - Step {frame+1}/{len(traversal_steps)}\", fontsize=16)\n",
        "\n",
        "    if event == 'initialize':\n",
        "        description = f\"Starting with node: {step['node']}\"\n",
        "    elif event == 'add_edges':\n",
        "        description = f\"Adding edges from node {step['node']} to candidate list (unsorted)\"\n",
        "    elif event == 'sort_edges':\n",
        "        description = \"Sorting edges by weight\"\n",
        "    elif event == 'select_edge':\n",
        "        src, dest, weight = current_edges[0]\n",
        "        description = f\"Selected minimum weight edge from sorted list: {src}→{dest} (weight: {weight})\"\n",
        "    elif event == 'skip_edge':\n",
        "        src, dest, weight = current_edges[0]\n",
        "        description = f\"Skipping edge {src}→{dest} (dest already in MST)\"\n",
        "    elif event == 'add_to_mst':\n",
        "        edge = current_edges[0]\n",
        "        description = f\"Adding edge {edge[0]}→{edge[1]} (weight: {edge[2]}) to MST\"\n",
        "\n",
        "    plt.figtext(0.5, 0.02, description,\n",
        "                ha=\"center\", fontsize=14, bbox={\"facecolor\": \"white\", \"alpha\": 0.5})\n",
        "\n",
        "    if step['all_edges']:\n",
        "        edge_list = []\n",
        "        for weight, src, dest in step['all_edges']:\n",
        "            edge_list.append(f\"{src}→{dest} ({weight})\")\n",
        "\n",
        "        edge_status = \"Unsorted\" if unsorted else \"Sorted\"\n",
        "        edge_text = f\"{edge_status} Candidate Edges: {', '.join(edge_list[:5])}\"\n",
        "        if len(edge_list) > 5:\n",
        "            edge_text += f\" + {len(edge_list) - 5} more\"\n",
        "\n",
        "        plt.figtext(0.5, 0.06, edge_text,\n",
        "                    ha=\"center\", fontsize=12, bbox={\"facecolor\": \"white\", \"alpha\": 0.5})\n",
        "\n",
        "    total_weight = sum(weight for _, _, weight in mst_edges)\n",
        "    plt.figtext(0.85, 0.95, f\"MST Weight: {total_weight}\",\n",
        "                ha=\"center\", fontsize=14, bbox={\"facecolor\": \"white\", \"alpha\": 0.5})\n",
        "\n",
        "    legend_elements = [\n",
        "        plt.Line2D([0], [0], marker='o', color='w', markerfacecolor=node_colors['unvisited'], markersize=15, label='Unvisited Node'),\n",
        "        plt.Line2D([0], [0], marker='o', color='w', markerfacecolor=node_colors['current'], markersize=15, label='Current Node'),\n",
        "        plt.Line2D([0], [0], marker='o', color='w', markerfacecolor=node_colors['visited'], markersize=15, label='In MST'),\n",
        "        plt.Line2D([0], [0], color=edge_colors['unvisited'], lw=2, label='Unvisited Edge'),\n",
        "        plt.Line2D([0], [0], color=edge_colors['unsorted'], lw=2, label='Unsorted Edge'),\n",
        "        plt.Line2D([0], [0], color=edge_colors['candidate'], lw=2, label='Sorted Edge'),\n",
        "        plt.Line2D([0], [0], color=edge_colors['current'], lw=4, label='Selected Edge'),\n",
        "        plt.Line2D([0], [0], color=edge_colors['rejected'], lw=4, label='Rejected Edge'),\n",
        "        plt.Line2D([0], [0], color=edge_colors['mst'], lw=4, label='MST Edge')\n",
        "    ]\n",
        "\n",
        "    plt.legend(handles=legend_elements, loc='upper left')"
      ],
      "metadata": {
        "id": "yk80Cws40jX7"
      },
      "execution_count": null,
      "outputs": []
    },
    {
      "cell_type": "code",
      "source": [
        "ani = FuncAnimation(plt.gcf(), update, frames=len(traversal_steps), interval=1500, repeat=True)\n",
        "\n",
        "ani.save('prims_optimized_algorithm.mp4', writer='ffmpeg', fps=0.7)"
      ],
      "metadata": {
        "id": "luD6qe-86l-U"
      },
      "execution_count": null,
      "outputs": []
    },
    {
      "cell_type": "markdown",
      "source": [
        "## Kruskal's Algorithm"
      ],
      "metadata": {
        "id": "v7DDilA8dkJo"
      }
    },
    {
      "cell_type": "markdown",
      "source": [
        "Kruskal's algorithm is a minimum spanning tree algorithm that takes a graph as input and finds the subset of the edges of that graph which form a tree that includes every vertex and has the minimum sum of weights among all the trees that can be formed from the graph"
      ],
      "metadata": {
        "id": "vgM2Rz99dsXR"
      }
    },
    {
      "cell_type": "markdown",
      "source": [
        "It falls under a class of algorithms called greedy algorithms that find the local optimum in the hopes of finding a global optimum.\n",
        "\n",
        "We start from the edges with the lowest weight and keep adding edges until we reach our goal.\n",
        "\n",
        "The steps for implementing Kruskal's algorithm are as follows:\n",
        "\n",
        "1. Sort all the edges from low weight to high\n",
        "2. Take the edge with the lowest weight and add it to the spanning tree. If adding the edge created a cycle, then reject this edge.\n",
        "3. Keep adding edges until we reach all vertices."
      ],
      "metadata": {
        "id": "YlP9mxNEd072"
      }
    },
    {
      "cell_type": "code",
      "source": [
        "def kruskal(graph):\n",
        "    edges = []\n",
        "\n",
        "    for node in graph:\n",
        "        for neighbor, weight in graph[node].items():\n",
        "            edges.append((weight, node, neighbor))\n",
        "\n",
        "    mst = []\n",
        "    parent = {node: node for node in graph}\n",
        "    rank = {node: 0 for node in graph}\n",
        "\n",
        "    while edges:\n",
        "        min_edge = None\n",
        "        for edge in edges:\n",
        "            if min_edge is None or edge[0] < min_edge[0]:\n",
        "                min_edge = edge\n",
        "        edges.remove(min_edge)\n",
        "\n",
        "        weight, node1, node2 = min_edge\n",
        "\n",
        "        if find(parent, node1) != find(parent, node2):\n",
        "            union_naive(parent, rank, node1, node2)\n",
        "            mst.append((node1, node2, weight))\n",
        "\n",
        "    return mst"
      ],
      "metadata": {
        "id": "iFYsU8jGeGtP"
      },
      "execution_count": null,
      "outputs": []
    },
    {
      "cell_type": "code",
      "source": [
        "def find(parent, node):\n",
        "    while parent[node] != node:\n",
        "        node = parent[node]\n",
        "    return node"
      ],
      "metadata": {
        "id": "V4Xpfqg4eIOh"
      },
      "execution_count": null,
      "outputs": []
    },
    {
      "cell_type": "code",
      "source": [
        "def union_naive(parent, rank, node1, node2):\n",
        "    root1 = find(parent, node1)\n",
        "    root2 = find(parent, node2)\n",
        "\n",
        "    parent[root2] = root1"
      ],
      "metadata": {
        "id": "OnGbi_radjdt"
      },
      "execution_count": null,
      "outputs": []
    },
    {
      "cell_type": "code",
      "source": [
        "graph = {\n",
        "    '0': {'1': 1, '2': 2},\n",
        "    '1': {'0': 1, '3': 3, '4': 4},\n",
        "    '2': {'0': 2},\n",
        "    '3': {'1': 3},\n",
        "    '4': {'1': 4, '2': 5}\n",
        "}\n",
        "\n",
        "mst = kruskal(graph)\n",
        "\n",
        "print(\"Minimum Spanning Tree:\")\n",
        "for edge in mst:\n",
        "    print(f\"Edge: {edge[0]} - {edge[1]}, Weight: {edge[2]}\")"
      ],
      "metadata": {
        "colab": {
          "base_uri": "https://localhost:8080/"
        },
        "id": "SLomgQPbesW7",
        "outputId": "24a3120e-bbea-4715-8dff-95da561ca15f"
      },
      "execution_count": null,
      "outputs": [
        {
          "output_type": "stream",
          "name": "stdout",
          "text": [
            "Minimum Spanning Tree:\n",
            "Edge: 0 - 1, Weight: 1\n",
            "Edge: 0 - 2, Weight: 2\n",
            "Edge: 1 - 3, Weight: 3\n",
            "Edge: 1 - 4, Weight: 4\n"
          ]
        }
      ]
    },
    {
      "cell_type": "markdown",
      "source": [
        "**Optimized Kruskal's Algorithm:**"
      ],
      "metadata": {
        "id": "Io41vQ_keSEM"
      }
    },
    {
      "cell_type": "markdown",
      "source": [
        "This version of Kruskal's Algorithm is more optimized because:\n",
        "\n",
        "1. It sorts edges upfront (`edges.sort()`), ensuring efficient iteration. The naive version manually finds the minimum edge repeatedly, adding significant overhead with extra loops.\n",
        "\n",
        "2. It uses path compression and rank to optimize the union-find operations. The naive version skips these optimizations, leading to slower and more redundant operations as the tree structures grow.\n"
      ],
      "metadata": {
        "id": "RDteCT8heVRx"
      }
    },
    {
      "cell_type": "code",
      "source": [
        "def kruskal_optimized(graph):\n",
        "  edges = []\n",
        "  for node in graph:\n",
        "    for neighbor, weight in graph[node].items():\n",
        "      edges.append((weight, node, neighbor))\n",
        "\n",
        "  edges.sort()\n",
        "\n",
        "  parent = {node: node for node in graph}\n",
        "  rank = {node: 0 for node in graph}\n",
        "  mst = []\n",
        "\n",
        "  for weight, node1, node2 in edges:\n",
        "    if find_optimized(parent, node1) != find_optimized(parent, node2):\n",
        "      union_optimized(parent, rank, node1, node2)\n",
        "      mst.append((node1, node2, weight))\n",
        "\n",
        "  return mst"
      ],
      "metadata": {
        "id": "ejhQ1BKQtZ_R"
      },
      "execution_count": null,
      "outputs": []
    },
    {
      "cell_type": "code",
      "source": [
        "def find_optimized(parent, node):\n",
        "  if parent[node] != node:\n",
        "    parent[node] = find_optimized(parent, parent[node])\n",
        "  return parent[node]"
      ],
      "metadata": {
        "id": "xRwZezKvtHeb"
      },
      "execution_count": null,
      "outputs": []
    },
    {
      "cell_type": "code",
      "source": [
        "def union_optimized(parent, rank, node1, node2):\n",
        "  root1 = find_optimized(parent, node1)\n",
        "  root2 = find_optimized(parent, node2)\n",
        "\n",
        "  if root1 != root2:\n",
        "    if rank[root1] > rank[root2]:\n",
        "      parent[root2] = root1\n",
        "    elif rank[root1] < rank[root2]:\n",
        "      parent[root1] = root2\n",
        "    else:\n",
        "      parent[root2] = root1\n",
        "      rank[root1] += 1"
      ],
      "metadata": {
        "id": "UJeMNTRCrFpV"
      },
      "execution_count": null,
      "outputs": []
    },
    {
      "cell_type": "code",
      "source": [
        "graph = {\n",
        "    '0': {'1': 1, '2': 2},\n",
        "    '1': {'0': 1, '3': 3, '4': 4},\n",
        "    '2': {'0': 2},\n",
        "    '3': {'1': 3},\n",
        "    '4': {'1': 4, '2': 5}\n",
        "}\n",
        "\n",
        "mst = kruskal_optimized(graph)\n",
        "\n",
        "print(\"Minimum Spanning Tree:\")\n",
        "for edge in mst:\n",
        "    print(f\"Edge: {edge[0]} - {edge[1]}, Weight: {edge[2]}\")"
      ],
      "metadata": {
        "colab": {
          "base_uri": "https://localhost:8080/"
        },
        "id": "QSBfxSAqrx4w",
        "outputId": "16a61106-f8f8-4fbc-8767-69b3e1c52cb2"
      },
      "execution_count": null,
      "outputs": [
        {
          "output_type": "stream",
          "name": "stdout",
          "text": [
            "Minimum Spanning Tree:\n",
            "Edge: 0 - 1, Weight: 1\n",
            "Edge: 0 - 2, Weight: 2\n",
            "Edge: 1 - 3, Weight: 3\n",
            "Edge: 1 - 4, Weight: 4\n"
          ]
        }
      ]
    },
    {
      "cell_type": "markdown",
      "source": [
        "**Visualization:**"
      ],
      "metadata": {
        "id": "_MfNKH2u2MNk"
      }
    },
    {
      "cell_type": "code",
      "source": [
        "import networkx as nx\n",
        "import matplotlib.pyplot as plt\n",
        "from matplotlib.animation import FuncAnimation"
      ],
      "metadata": {
        "id": "lsmykhkj6vCk"
      },
      "execution_count": null,
      "outputs": []
    },
    {
      "cell_type": "code",
      "source": [
        "graph = {\n",
        "    '0': {'1': 4, '2': 2, '5': 3},\n",
        "    '1': {'0': 4, '3': 5, '4': 1, '6': 2},\n",
        "    '2': {'0': 2, '4': 3, '7': 6},\n",
        "    '3': {'1': 5, '8': 2},\n",
        "    '4': {'1': 1, '2': 3, '3': 8, '9': 7},\n",
        "    '5': {'0': 3, '6': 2, '10': 4},\n",
        "    '6': {'1': 2, '5': 2, '7': 1, '11': 5},\n",
        "    '7': {'2': 6, '6': 1, '8': 3, '12': 4},\n",
        "    '8': {'3': 2, '7': 3, '13': 6},\n",
        "    '9': {'4': 7, '14': 4},\n",
        "    '10': {'5': 4},\n",
        "    '11': {'6': 5},\n",
        "    '12': {'7': 4},\n",
        "    '13': {'8': 6},\n",
        "    '14': {'9': 4},\n",
        "}"
      ],
      "metadata": {
        "id": "v9-t0rUI6wyr"
      },
      "execution_count": null,
      "outputs": []
    },
    {
      "cell_type": "code",
      "source": [
        "def find_optimized(parent, node):\n",
        "    if parent[node] != node:\n",
        "        parent[node] = find_optimized(parent, parent[node])\n",
        "    return parent[node]"
      ],
      "metadata": {
        "id": "e85APtOF60L-"
      },
      "execution_count": null,
      "outputs": []
    },
    {
      "cell_type": "code",
      "source": [
        "def union_optimized(parent, rank, node1, node2):\n",
        "    root1 = find_optimized(parent, node1)\n",
        "    root2 = find_optimized(parent, node2)\n",
        "\n",
        "    if root1 != root2:\n",
        "        if rank[root1] > rank[root2]:\n",
        "            parent[root2] = root1\n",
        "        elif rank[root1] < rank[root2]:\n",
        "            parent[root1] = root2\n",
        "        else:\n",
        "            parent[root2] = root1\n",
        "            rank[root1] += 1"
      ],
      "metadata": {
        "id": "BbsvMkFh6zVk"
      },
      "execution_count": null,
      "outputs": []
    },
    {
      "cell_type": "code",
      "source": [
        "def kruskal_optimized_with_steps(graph):\n",
        "    edges = []\n",
        "    for node in graph:\n",
        "        for neighbor, weight in graph[node].items():\n",
        "            if node < neighbor:\n",
        "                edges.append((weight, node, neighbor))\n",
        "\n",
        "    steps = []\n",
        "\n",
        "    steps.append({\n",
        "        'event': 'initialize',\n",
        "        'description': 'Initializing Kruskal\\'s algorithm',\n",
        "        'parent': None,\n",
        "        'rank': None,\n",
        "        'mst': [],\n",
        "        'current_edge': None,\n",
        "        'all_edges': edges.copy(),\n",
        "        'unsorted': True\n",
        "    })\n",
        "\n",
        "    edges.sort()\n",
        "\n",
        "    steps.append({\n",
        "        'event': 'sort_edges',\n",
        "        'description': 'Sorting all edges by weight',\n",
        "        'parent': None,\n",
        "        'rank': None,\n",
        "        'mst': [],\n",
        "        'current_edge': None,\n",
        "        'all_edges': edges.copy()\n",
        "    })\n",
        "\n",
        "    parent = {node: node for node in graph}\n",
        "    rank = {node: 0 for node in graph}\n",
        "\n",
        "    steps.append({\n",
        "        'event': 'init_union_find',\n",
        "        'description': 'Initializing Union-Find data structure',\n",
        "        'parent': parent.copy(),\n",
        "        'rank': rank.copy(),\n",
        "        'mst': [],\n",
        "        'current_edge': None,\n",
        "        'all_edges': edges.copy()\n",
        "    })\n",
        "\n",
        "    mst = []\n",
        "\n",
        "    for weight, node1, node2 in edges:\n",
        "        current_edge = (node1, node2, weight)\n",
        "\n",
        "        steps.append({\n",
        "            'event': 'check_edge',\n",
        "            'description': f'Checking edge {node1}→{node2} (weight: {weight})',\n",
        "            'parent': parent.copy(),\n",
        "            'rank': rank.copy(),\n",
        "            'mst': mst.copy(),\n",
        "            'current_edge': current_edge,\n",
        "            'all_edges': edges.copy()\n",
        "        })\n",
        "\n",
        "        root1 = find_optimized(parent, node1)\n",
        "        root2 = find_optimized(parent, node2)\n",
        "\n",
        "        if root1 != root2:\n",
        "            old_parent = parent.copy()\n",
        "            old_rank = rank.copy()\n",
        "\n",
        "            union_optimized(parent, rank, node1, node2)\n",
        "\n",
        "            mst.append((node1, node2, weight))\n",
        "\n",
        "            steps.append({\n",
        "                'event': 'add_to_mst',\n",
        "                'description': f'Adding edge {node1}→{node2} (weight: {weight}) to MST',\n",
        "                'old_parent': old_parent,\n",
        "                'old_rank': old_rank,\n",
        "                'parent': parent.copy(),\n",
        "                'rank': rank.copy(),\n",
        "                'mst': mst.copy(),\n",
        "                'current_edge': current_edge,\n",
        "                'all_edges': edges.copy()\n",
        "            })\n",
        "        else:\n",
        "            steps.append({\n",
        "                'event': 'skip_edge',\n",
        "                'description': f'Skipping edge {node1}→{node2} - would create a cycle',\n",
        "                'parent': parent.copy(),\n",
        "                'rank': rank.copy(),\n",
        "                'mst': mst.copy(),\n",
        "                'current_edge': current_edge,\n",
        "                'all_edges': edges.copy()\n",
        "            })\n",
        "\n",
        "    steps.append({\n",
        "        'event': 'complete',\n",
        "        'description': 'Kruskal\\'s algorithm complete',\n",
        "        'parent': parent.copy(),\n",
        "        'rank': rank.copy(),\n",
        "        'mst': mst.copy(),\n",
        "        'current_edge': None,\n",
        "        'all_edges': edges.copy()\n",
        "    })\n",
        "\n",
        "    return steps"
      ],
      "metadata": {
        "id": "1eQ04V5D2Nqv"
      },
      "execution_count": null,
      "outputs": []
    },
    {
      "cell_type": "code",
      "source": [
        "G = nx.Graph()\n",
        "for node, neighbors in graph.items():\n",
        "    for neighbor, weight in neighbors.items():\n",
        "        if node < neighbor:\n",
        "            G.add_edge(node, neighbor, weight=weight)\n",
        "\n",
        "traversal_steps = kruskal_optimized_with_steps(graph)\n",
        "\n",
        "node_colors = {\n",
        "    'default': 'lightblue',\n",
        "    'highlighted': 'orange'\n",
        "}\n",
        "\n",
        "edge_colors = {\n",
        "    'default': 'lightgray',\n",
        "    'mst': 'green',\n",
        "    'current': 'red',\n",
        "    'rejected': 'orange',\n",
        "    'unsorted': 'purple'\n",
        "}"
      ],
      "metadata": {
        "id": "x5bCUWUK7JEe"
      },
      "execution_count": null,
      "outputs": []
    },
    {
      "cell_type": "code",
      "source": [
        "def get_connected_components(parent):\n",
        "    components = {}\n",
        "    parent_copy = parent.copy()\n",
        "\n",
        "    for node in parent_copy:\n",
        "        root = parent_copy[node]\n",
        "        while root != parent_copy[root]:\n",
        "            root = parent_copy[root]\n",
        "\n",
        "        if root not in components:\n",
        "            components[root] = []\n",
        "        components[root].append(node)\n",
        "\n",
        "    return components\n",
        "\n",
        "plt.figure(figsize=(12, 8))\n",
        "pos = nx.spring_layout(G, seed=42)\n"
      ],
      "metadata": {
        "id": "dOLXe-Em7NYk"
      },
      "execution_count": null,
      "outputs": []
    },
    {
      "cell_type": "code",
      "source": [
        "def update(frame):\n",
        "    plt.clf()\n",
        "    step = traversal_steps[frame]\n",
        "    event = step['event']\n",
        "\n",
        "    node_color_map = [node_colors['default'] for _ in G.nodes()]\n",
        "\n",
        "    if step['current_edge']:\n",
        "        node1, node2, _ = step['current_edge']\n",
        "        for i, node in enumerate(G.nodes()):\n",
        "            if node == node1 or node == node2:\n",
        "                node_color_map[i] = node_colors['highlighted']\n",
        "\n",
        "    edge_color_map = []\n",
        "    edge_width_map = []\n",
        "\n",
        "    for u, v in G.edges():\n",
        "        edge = 'default'\n",
        "\n",
        "        for n1, n2, _ in step.get('mst', []):\n",
        "            if (u == n1 and v == n2) or (u == n2 and v == n1):\n",
        "                edge = 'mst'\n",
        "                break\n",
        "\n",
        "        if step['current_edge']:\n",
        "            n1, n2, _ = step['current_edge']\n",
        "            if (u == n1 and v == n2) or (u == n2 and v == n1):\n",
        "                if event == 'skip_edge':\n",
        "                    edge = 'rejected'\n",
        "                else:\n",
        "                    edge = 'current'\n",
        "\n",
        "        if event == 'initialize' and step.get('unsorted', False):\n",
        "            for weight, n1, n2 in step['all_edges']:\n",
        "                if (u == n1 and v == n2) or (u == n2 and v == n1):\n",
        "                    edge = 'unsorted'\n",
        "                    break\n",
        "\n",
        "        edge_color_map.append(edge_colors[edge])\n",
        "        edge_width_map.append(4 if edge in ['mst', 'current', 'rejected'] else 1)\n",
        "\n",
        "    nx.draw(G, pos, with_labels=True, node_color=node_color_map,\n",
        "            edge_color=edge_color_map, width=edge_width_map,\n",
        "            node_size=700, font_size=18, font_weight='bold')\n",
        "\n",
        "    edge_labels = nx.get_edge_attributes(G, 'weight')\n",
        "    nx.draw_networkx_edge_labels(G, pos, edge_labels=edge_labels, font_size=14)\n",
        "\n",
        "    plt.title(f\"Kruskal's Algorithm - Step {frame+1}/{len(traversal_steps)}\", fontsize=16)\n",
        "    plt.figtext(0.5, 0.02, step['description'],\n",
        "                ha=\"center\", fontsize=14, bbox={\"facecolor\": \"white\", \"alpha\": 0.5})\n",
        "\n",
        "    if event != 'initialize' and step['all_edges']:\n",
        "        edge_list = []\n",
        "        displayed_edges = step['all_edges'][:7]\n",
        "        for weight, src, dest in displayed_edges:\n",
        "            edge_list.append(f\"{src}→{dest} ({weight})\")\n",
        "\n",
        "        edge_text = f\"Edges (sorted by weight): {', '.join(edge_list)}\"\n",
        "        if len(step['all_edges']) > 7:\n",
        "            edge_text += f\" + {len(step['all_edges']) - 7} more\"\n",
        "\n",
        "        plt.figtext(0.5, 0.06, edge_text,\n",
        "                    ha=\"center\", fontsize=12, bbox={\"facecolor\": \"white\", \"alpha\": 0.5})\n",
        "\n",
        "    if step['parent']:\n",
        "        try:\n",
        "            components = get_connected_components(step['parent'])\n",
        "            forest_text = \"Connected Components: \"\n",
        "            component_strs = []\n",
        "\n",
        "            for root, members in components.items():\n",
        "                component_strs.append(\"[\" + \", \".join(sorted(members)) + \"]\")\n",
        "\n",
        "            forest_text += \", \".join(component_strs[:3])\n",
        "            if len(component_strs) > 3:\n",
        "                forest_text += f\" + {len(component_strs) - 3} more\"\n",
        "\n",
        "            plt.figtext(0.5, 0.1, forest_text,\n",
        "                        ha=\"center\", fontsize=12, bbox={\"facecolor\": \"white\", \"alpha\": 0.5})\n",
        "        except Exception as e:\n",
        "            plt.figtext(0.5, 0.1, \"Union-Find structure initialized\",\n",
        "                        ha=\"center\", fontsize=12, bbox={\"facecolor\": \"white\", \"alpha\": 0.5})\n",
        "\n",
        "    if step['mst']:\n",
        "        total_weight = sum(weight for _, _, weight in step['mst'])\n",
        "        plt.figtext(0.85, 0.95, f\"MST Weight: {total_weight}\",\n",
        "                    ha=\"center\", fontsize=14, bbox={\"facecolor\": \"white\", \"alpha\": 0.5})\n",
        "\n",
        "    legend_elements = [\n",
        "        plt.Line2D([0], [0], marker='o', color='w', markerfacecolor=node_colors['default'], markersize=15, label='Node'),\n",
        "        plt.Line2D([0], [0], marker='o', color='w', markerfacecolor=node_colors['highlighted'], markersize=15, label='Current Nodes'),\n",
        "        plt.Line2D([0], [0], color=edge_colors['default'], lw=2, label='Regular Edge'),\n",
        "        plt.Line2D([0], [0], color=edge_colors['unsorted'], lw=2, label='Unsorted Edge'),\n",
        "        plt.Line2D([0], [0], color=edge_colors['current'], lw=4, label='Current Edge'),\n",
        "        plt.Line2D([0], [0], color=edge_colors['rejected'], lw=4, label='Creates Cycle'),\n",
        "        plt.Line2D([0], [0], color=edge_colors['mst'], lw=4, label='MST Edge')\n",
        "    ]\n",
        "\n",
        "    plt.legend(handles=legend_elements, loc='upper left')"
      ],
      "metadata": {
        "id": "K42nySeF2U7H"
      },
      "execution_count": null,
      "outputs": []
    },
    {
      "cell_type": "code",
      "source": [
        "ani = FuncAnimation(plt.gcf(), update, frames=len(traversal_steps), interval=1500, repeat=True)\n",
        "\n",
        "ani.save('kruskal_algorithm.mp4', writer='ffmpeg', fps=0.7)\n"
      ],
      "metadata": {
        "id": "2H5Iitjg7Rp0"
      },
      "execution_count": null,
      "outputs": []
    }
  ]
}