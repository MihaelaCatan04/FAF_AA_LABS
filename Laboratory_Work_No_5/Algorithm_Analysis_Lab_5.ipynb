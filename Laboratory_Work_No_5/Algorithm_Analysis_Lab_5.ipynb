{
  "nbformat": 4,
  "nbformat_minor": 0,
  "metadata": {
    "colab": {
      "provenance": [],
      "authorship_tag": "ABX9TyO83W3Ya1Nbf1BpMp+YYM2w",
      "include_colab_link": true
    },
    "kernelspec": {
      "name": "python3",
      "display_name": "Python 3"
    },
    "language_info": {
      "name": "python"
    }
  },
  "cells": [
    {
      "cell_type": "markdown",
      "metadata": {
        "id": "view-in-github",
        "colab_type": "text"
      },
      "source": [
        "<a href=\"https://colab.research.google.com/github/MihaelaCatan04/FAF_AA_LABS/blob/main/Laboratory_Work_No_5/Algorithm_Analysis_Lab_5.ipynb\" target=\"_parent\"><img src=\"https://colab.research.google.com/assets/colab-badge.svg\" alt=\"Open In Colab\"/></a>"
      ]
    },
    {
      "cell_type": "markdown",
      "source": [
        "## Prim's Algorithm\n"
      ],
      "metadata": {
        "id": "O_ZUg_TUcEzz"
      }
    },
    {
      "cell_type": "markdown",
      "source": [
        "Prim's algorithm is a minimum spanning tree algorithm that takes a graph as input and finds the subset of the edges of that graph whichc form a tree that includes every vertex and has the minimum sum of weights among all the trees that can be formed from the graph."
      ],
      "metadata": {
        "id": "Fuvc-x5IcO-4"
      }
    },
    {
      "cell_type": "markdown",
      "source": [
        "It falls under a class of algorithms called greedy algorithms that find the local optimum in the hopes of finding a global optimum.\n",
        "\n",
        "We start from one vertex and keep adding edges with the lowest weight until we reach our goal.\n",
        "\n",
        "The steps for implementing Prim's algorithm are as follows:\n",
        "\n",
        "1. Initialize the minimum spanning tree with a vertex chosen at random.\n",
        "2. Find all the edges that connect the tree to new vertices, find the minimum and add it to the tree\n",
        "3. Keep repeating step 2 until we get a minimum spanning tree"
      ],
      "metadata": {
        "id": "jHrJYy6IcaGM"
      }
    },
    {
      "cell_type": "code",
      "source": [
        "def prim(graph, start):\n",
        "    visited = set()\n",
        "    mst = []\n",
        "    edges = []\n",
        "\n",
        "    visited.add(start)\n",
        "\n",
        "    for dest, weight in graph[start].items():\n",
        "        edges.append((start, dest, weight))\n",
        "\n",
        "    while edges:\n",
        "        min_edge = None\n",
        "        for edge in edges:\n",
        "            if min_edge is None or edge[2] < min_edge[2]:\n",
        "                min_edge = edge\n",
        "        edges.remove(min_edge)\n",
        "\n",
        "        src, dest, weight = min_edge\n",
        "\n",
        "        if dest in visited:\n",
        "            continue\n",
        "\n",
        "        mst.append((src, dest, weight))\n",
        "        visited.add(dest)\n",
        "\n",
        "        for next_dest, next_weight in graph[dest].items():\n",
        "            if next_dest not in visited:\n",
        "                edges.append((dest, next_dest, next_weight))\n",
        "\n",
        "    return mst"
      ],
      "metadata": {
        "id": "ZKV4uTvecgYV"
      },
      "execution_count": null,
      "outputs": []
    },
    {
      "cell_type": "code",
      "source": [
        "graph = {\n",
        "    '0': {'1': 1, '2': 2},\n",
        "    '1': {'0': 1, '3': 3, '4': 4},\n",
        "    '2': {'0': 2},\n",
        "    '3': {'1': 3},\n",
        "    '4': {'1': 4, '2': 5}\n",
        "}\n",
        "\n",
        "mst = prim(graph, '0')\n",
        "print(\"Minimum Spanning Tree:\", mst)"
      ],
      "metadata": {
        "colab": {
          "base_uri": "https://localhost:8080/"
        },
        "id": "4rPcCC5AdA1y",
        "outputId": "7c73e805-d4d5-4b09-f928-24f74b065cdc"
      },
      "execution_count": null,
      "outputs": [
        {
          "output_type": "stream",
          "name": "stdout",
          "text": [
            "Minimum Spanning Tree: [('0', '1', 1), ('0', '2', 2), ('1', '3', 3), ('1', '4', 4)]\n"
          ]
        }
      ]
    },
    {
      "cell_type": "markdown",
      "source": [
        "**Optimized Prim's Algorithm:**"
      ],
      "metadata": {
        "id": "BsDA_rm_cq-z"
      }
    },
    {
      "cell_type": "markdown",
      "source": [
        "This version of Prim's Algorithm is more optimized because:\n",
        "1. It sorts the edges at every iteration (`edges.sort()`), allowing you to pop the smallest edge in constant time. This ensures the process remains efficient despite the repeated sorting.\n",
        "\n",
        "\n",
        "2. Sorting the edges upfront minimizes the number of iterations needed to find the smallest edge.\n"
      ],
      "metadata": {
        "id": "o5bN2qdcctYr"
      }
    },
    {
      "cell_type": "code",
      "source": [
        "def prim_optimized(graph, start):\n",
        "  visited = set([start])\n",
        "  edges = []\n",
        "  mst = []\n",
        "\n",
        "  for dest, weight in graph[start].items():\n",
        "    edges.append((weight, start, dest))\n",
        "  edges.sort()\n",
        "  while edges:\n",
        "    weight, src, dest = edges.pop(0)\n",
        "\n",
        "    if dest in visited:\n",
        "      continue\n",
        "\n",
        "    mst.append((src, dest, weight))\n",
        "    visited.add(dest)\n",
        "\n",
        "    for next_dest, next_weight in graph[dest].items():\n",
        "      if next_dest not in visited:\n",
        "        edges.append((next_weight, dest, next_dest))\n",
        "\n",
        "    edges.sort()\n",
        "\n",
        "  return mst"
      ],
      "metadata": {
        "id": "9OgvTzJ9r0Ko"
      },
      "execution_count": null,
      "outputs": []
    },
    {
      "cell_type": "code",
      "source": [
        "graph = {\n",
        "    '0': {'1': 1, '2': 2},\n",
        "    '1': {'0': 1, '3': 3, '4': 4},\n",
        "    '2': {'0': 2},\n",
        "    '3': {'1': 3},\n",
        "    '4': {'1': 4, '2': 5}\n",
        "}\n",
        "\n",
        "mst = prim_optimized(graph, '0')\n",
        "print(\"Minimum Spanning Tree:\", mst)"
      ],
      "metadata": {
        "colab": {
          "base_uri": "https://localhost:8080/"
        },
        "id": "TV-3W7MytEC0",
        "outputId": "337fa7f3-d40b-4895-c68f-9968f6eeb723"
      },
      "execution_count": null,
      "outputs": [
        {
          "output_type": "stream",
          "name": "stdout",
          "text": [
            "Minimum Spanning Tree: [('0', '1', 1), ('0', '2', 2), ('1', '3', 3), ('1', '4', 4)]\n"
          ]
        }
      ]
    },
    {
      "cell_type": "markdown",
      "source": [
        "The time complexity of Prim's algorithm is `O(V2)`."
      ],
      "metadata": {
        "id": "ceX0xL8ItalX"
      }
    },
    {
      "cell_type": "markdown",
      "source": [
        "## Kruskal's Algorithm"
      ],
      "metadata": {
        "id": "v7DDilA8dkJo"
      }
    },
    {
      "cell_type": "markdown",
      "source": [
        "Kruskal's algorithm is a minimum spanning tree algorithm that takes a graph as input and finds the subset of the edges of that graph which form a tree that includes every vertex and has the minimum sum of weights among all the trees that can be formed from the graph"
      ],
      "metadata": {
        "id": "vgM2Rz99dsXR"
      }
    },
    {
      "cell_type": "markdown",
      "source": [
        "It falls under a class of algorithms called greedy algorithms that find the local optimum in the hopes of finding a global optimum.\n",
        "\n",
        "We start from the edges with the lowest weight and keep adding edges until we reach our goal.\n",
        "\n",
        "The steps for implementing Kruskal's algorithm are as follows:\n",
        "\n",
        "1. Sort all the edges from low weight to high\n",
        "2. Take the edge with the lowest weight and add it to the spanning tree. If adding the edge created a cycle, then reject this edge.\n",
        "3. Keep adding edges until we reach all vertices."
      ],
      "metadata": {
        "id": "YlP9mxNEd072"
      }
    },
    {
      "cell_type": "code",
      "source": [
        "def kruskal(graph):\n",
        "    edges = []\n",
        "\n",
        "    for node in graph:\n",
        "        for neighbor, weight in graph[node].items():\n",
        "            edges.append((weight, node, neighbor))\n",
        "\n",
        "    mst = []\n",
        "    parent = {node: node for node in graph}\n",
        "    rank = {node: 0 for node in graph}\n",
        "\n",
        "    while edges:\n",
        "        min_edge = None\n",
        "        for edge in edges:\n",
        "            if min_edge is None or edge[0] < min_edge[0]:\n",
        "                min_edge = edge\n",
        "        edges.remove(min_edge)\n",
        "\n",
        "        weight, node1, node2 = min_edge\n",
        "\n",
        "        if find(parent, node1) != find(parent, node2):\n",
        "            union_naive(parent, rank, node1, node2)\n",
        "            mst.append((node1, node2, weight))\n",
        "\n",
        "    return mst"
      ],
      "metadata": {
        "id": "iFYsU8jGeGtP"
      },
      "execution_count": null,
      "outputs": []
    },
    {
      "cell_type": "code",
      "source": [
        "def find(parent, node):\n",
        "    while parent[node] != node:\n",
        "        node = parent[node]\n",
        "    return node"
      ],
      "metadata": {
        "id": "V4Xpfqg4eIOh"
      },
      "execution_count": null,
      "outputs": []
    },
    {
      "cell_type": "code",
      "source": [
        "def union_naive(parent, rank, node1, node2):\n",
        "    root1 = find(parent, node1)\n",
        "    root2 = find(parent, node2)\n",
        "\n",
        "    parent[root2] = root1"
      ],
      "metadata": {
        "id": "OnGbi_radjdt"
      },
      "execution_count": null,
      "outputs": []
    },
    {
      "cell_type": "code",
      "source": [
        "graph = {\n",
        "    '0': {'1': 1, '2': 2},\n",
        "    '1': {'0': 1, '3': 3, '4': 4},\n",
        "    '2': {'0': 2},\n",
        "    '3': {'1': 3},\n",
        "    '4': {'1': 4, '2': 5}\n",
        "}\n",
        "\n",
        "mst = kruskal(graph)\n",
        "\n",
        "# Print the result\n",
        "print(\"Minimum Spanning Tree:\")\n",
        "for edge in mst:\n",
        "    print(f\"Edge: {edge[0]} - {edge[1]}, Weight: {edge[2]}\")"
      ],
      "metadata": {
        "colab": {
          "base_uri": "https://localhost:8080/"
        },
        "id": "SLomgQPbesW7",
        "outputId": "24a3120e-bbea-4715-8dff-95da561ca15f"
      },
      "execution_count": null,
      "outputs": [
        {
          "output_type": "stream",
          "name": "stdout",
          "text": [
            "Minimum Spanning Tree:\n",
            "Edge: 0 - 1, Weight: 1\n",
            "Edge: 0 - 2, Weight: 2\n",
            "Edge: 1 - 3, Weight: 3\n",
            "Edge: 1 - 4, Weight: 4\n"
          ]
        }
      ]
    },
    {
      "cell_type": "markdown",
      "source": [
        "**Optimized Kruskal's Algorithm:**"
      ],
      "metadata": {
        "id": "Io41vQ_keSEM"
      }
    },
    {
      "cell_type": "markdown",
      "source": [
        "This version of Kruskal's Algorithm is more optimized because:\n",
        "\n",
        "1. It sorts edges upfront (`edges.sort()`), ensuring efficient iteration. The naive version manually finds the minimum edge repeatedly, adding significant overhead with extra loops.\n",
        "\n",
        "2. It uses path compression and rank to optimize the union-find operations. The naive version skips these optimizations, leading to slower and more redundant operations as the tree structures grow.\n"
      ],
      "metadata": {
        "id": "RDteCT8heVRx"
      }
    },
    {
      "cell_type": "code",
      "source": [
        "def kruskal_optimized(graph):\n",
        "  edges = []\n",
        "  for node in graph:\n",
        "    for neighbor, weight in graph[node].items():\n",
        "      edges.append((weight, node, neighbor))\n",
        "\n",
        "  edges.sort()\n",
        "\n",
        "  parent = {node: node for node in graph}\n",
        "  rank = {node: 0 for node in graph}\n",
        "  mst = []\n",
        "\n",
        "  for weight, node1, node2 in edges:\n",
        "    if find_optimized(parent, node1) != find_optimized(parent, node2):\n",
        "      union_optimized(parent, rank, node1, node2)\n",
        "      mst.append((node1, node2, weight))\n",
        "\n",
        "  return mst"
      ],
      "metadata": {
        "id": "ejhQ1BKQtZ_R"
      },
      "execution_count": null,
      "outputs": []
    },
    {
      "cell_type": "code",
      "source": [
        "def find_optimized(parent, node):\n",
        "  if parent[node] != node:\n",
        "    parent[node] = find_optimized(parent, parent[node])\n",
        "  return parent[node]"
      ],
      "metadata": {
        "id": "xRwZezKvtHeb"
      },
      "execution_count": null,
      "outputs": []
    },
    {
      "cell_type": "code",
      "source": [
        "def union_optimized(parent, rank, node1, node2):\n",
        "  root1 = find_optimized(parent, node1)\n",
        "  root2 = find_optimized(parent, node2)\n",
        "\n",
        "  if root1 != root2:\n",
        "    if rank[root1] > rank[root2]:\n",
        "      parent[root2] = root1\n",
        "    elif rank[root1] < rank[root2]:\n",
        "      parent[root1] = root2\n",
        "    else:\n",
        "      parent[root2] = root1\n",
        "      rank[root1] += 1"
      ],
      "metadata": {
        "id": "UJeMNTRCrFpV"
      },
      "execution_count": null,
      "outputs": []
    },
    {
      "cell_type": "code",
      "source": [
        "graph = {\n",
        "    '0': {'1': 1, '2': 2},\n",
        "    '1': {'0': 1, '3': 3, '4': 4},\n",
        "    '2': {'0': 2},\n",
        "    '3': {'1': 3},\n",
        "    '4': {'1': 4, '2': 5}\n",
        "}\n",
        "\n",
        "mst = kruskal_optimized(graph)\n",
        "\n",
        "# Print the result\n",
        "print(\"Minimum Spanning Tree:\")\n",
        "for edge in mst:\n",
        "    print(f\"Edge: {edge[0]} - {edge[1]}, Weight: {edge[2]}\")"
      ],
      "metadata": {
        "colab": {
          "base_uri": "https://localhost:8080/"
        },
        "id": "QSBfxSAqrx4w",
        "outputId": "16a61106-f8f8-4fbc-8767-69b3e1c52cb2"
      },
      "execution_count": null,
      "outputs": [
        {
          "output_type": "stream",
          "name": "stdout",
          "text": [
            "Minimum Spanning Tree:\n",
            "Edge: 0 - 1, Weight: 1\n",
            "Edge: 0 - 2, Weight: 2\n",
            "Edge: 1 - 3, Weight: 3\n",
            "Edge: 1 - 4, Weight: 4\n"
          ]
        }
      ]
    }
  ]
}