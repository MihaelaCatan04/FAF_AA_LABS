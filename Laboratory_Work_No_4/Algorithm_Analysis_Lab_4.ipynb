{
  "nbformat": 4,
  "nbformat_minor": 0,
  "metadata": {
    "colab": {
      "provenance": [],
      "authorship_tag": "ABX9TyOHQHCnMhsXRBWfshSDQqoO",
      "include_colab_link": true
    },
    "kernelspec": {
      "name": "python3",
      "display_name": "Python 3"
    },
    "language_info": {
      "name": "python"
    }
  },
  "cells": [
    {
      "cell_type": "markdown",
      "metadata": {
        "id": "view-in-github",
        "colab_type": "text"
      },
      "source": [
        "<a href=\"https://colab.research.google.com/github/MihaelaCatan04/FAF_AA_LABS/blob/main/Laboratory_Work_No_4/Algorithm_Analysis_Lab_4.ipynb\" target=\"_parent\"><img src=\"https://colab.research.google.com/assets/colab-badge.svg\" alt=\"Open In Colab\"/></a>"
      ]
    },
    {
      "cell_type": "markdown",
      "source": [
        "## Dijkstra's Algorithm"
      ],
      "metadata": {
        "id": "ThHX50wLBaRs"
      }
    },
    {
      "cell_type": "markdown",
      "source": [
        "Dijkstra's algorithm is an algorithm for finding the shortest paths between nodes in a weighted graph, which may represent, for example, a road network.\n",
        "\n",
        "It differs from the minimum spanning tree because the shortest distance between two vertices might not include all the vertices of the graph.\n",
        "\n",
        "The algorithm uses a greedy approach in the sense that we find the next best solution hoping that the end result is the best solution for the whole problem."
      ],
      "metadata": {
        "id": "NRP6wxMhNWw4"
      }
    },
    {
      "cell_type": "code",
      "source": [
        "def dijkstra(graph, start):\n",
        "    distances = {node: float('inf') for node in graph}\n",
        "    distances[start] = 0\n",
        "    visited = set()\n",
        "\n",
        "    while len(visited) < len(graph):\n",
        "        current_node = None\n",
        "        current_distance = float('inf')\n",
        "        for node in graph:\n",
        "            if node not in visited and distances[node] < current_distance:\n",
        "                current_node = node\n",
        "                current_distance = distances[node]\n",
        "\n",
        "        if current_node is None:\n",
        "            break\n",
        "\n",
        "        print(\"Visiting\", current_node)\n",
        "        visited.add(current_node)\n",
        "\n",
        "        for neighbor, weight in graph[current_node].items():\n",
        "            distance = current_distance + weight\n",
        "            if distance < distances[neighbor]:\n",
        "                distances[neighbor] = distance\n",
        "\n",
        "    return distances"
      ],
      "metadata": {
        "id": "D9M_CslFOxny"
      },
      "execution_count": null,
      "outputs": []
    },
    {
      "cell_type": "code",
      "source": [
        "graph = {'0': {'1': 1, '2': 2},\n",
        "         '1': {'0': 1, '3': 3, '4': 4},\n",
        "         '2': {'0': 2},\n",
        "         '3': {'1': 3},\n",
        "         '4': {'1': 4, '2': 5}}\n",
        "\n",
        "result = dijkstra(graph, '0')\n",
        "print(\"Shortest distances:\", result)"
      ],
      "metadata": {
        "colab": {
          "base_uri": "https://localhost:8080/"
        },
        "id": "ahHEYkQAPF-8",
        "outputId": "06315d73-c6da-429b-cd6a-754b13c7cef4"
      },
      "execution_count": null,
      "outputs": [
        {
          "output_type": "stream",
          "name": "stdout",
          "text": [
            "Visiting 0\n",
            "Visiting 1\n",
            "Visiting 2\n",
            "Visiting 3\n",
            "Visiting 4\n",
            "Shortest distances: {'0': 0, '1': 1, '2': 2, '3': 4, '4': 5}\n"
          ]
        }
      ]
    },
    {
      "cell_type": "markdown",
      "source": [
        "**Optimized Djikstra's Algorithm**"
      ],
      "metadata": {
        "id": "1uc8dzigPmjR"
      }
    },
    {
      "cell_type": "markdown",
      "source": [
        "This version of Djikstra's Algorithm is optimized because:\n",
        "1. It uses a priority queue (`heapq`) to always process the node with the smallest distance first. This avoids scanning all nodes to find the minimum each time, saving computational effort.\n",
        "\n",
        "2. The priority queue implementation has better overall efficiency with a time complexity of `(O((V + E) log V))`, where `(E)` is the number of edges, as heap operations (insertion and extraction) are logarithmic.\n",
        "\n",
        "3. Using the priority queue, this implementation dynamically identifies the next node to process without exhaustively scanning the graph, whereas the less optimized version repeatedly checks all nodes, leading to unnecessary overhead.\n"
      ],
      "metadata": {
        "id": "hnhdoXhBPsDk"
      }
    },
    {
      "cell_type": "code",
      "source": [
        "import heapq"
      ],
      "metadata": {
        "id": "VayBSa0wBg99"
      },
      "execution_count": null,
      "outputs": []
    },
    {
      "cell_type": "code",
      "source": [
        "def dijkstra_optimized(graph, start):\n",
        "    distances = {node: float('inf') for node in graph}\n",
        "    distances[start] = 0\n",
        "    visited = set()\n",
        "    priority_queue = [(0, start)]\n",
        "\n",
        "    while priority_queue:\n",
        "        current_distance, current_node = heapq.heappop(priority_queue)\n",
        "\n",
        "        if current_node in visited:\n",
        "            continue\n",
        "\n",
        "        print(\"Visiting\", current_node)\n",
        "        visited.add(current_node)\n",
        "\n",
        "        for neighbor, weight in graph[current_node].items():\n",
        "            distance = current_distance + weight\n",
        "            if distance < distances[neighbor]:\n",
        "                distances[neighbor] = distance\n",
        "                heapq.heappush(priority_queue, (distance, neighbor))\n",
        "\n",
        "    return distances"
      ],
      "metadata": {
        "id": "k4rF8D0vow7X"
      },
      "execution_count": null,
      "outputs": []
    },
    {
      "cell_type": "code",
      "source": [
        "graph = {'0': {'1': 1, '2': 2},\n",
        "         '1': {'0': 1, '3': 3, '4': 4},\n",
        "         '2': {'0': 2},\n",
        "         '3': {'1': 3},\n",
        "         '4': {'1': 4, '2': 5}}\n",
        "\n",
        "result = dijkstra_optimized(graph, '0')\n",
        "print(\"Shortest distances:\", result)"
      ],
      "metadata": {
        "colab": {
          "base_uri": "https://localhost:8080/"
        },
        "id": "dPx7CQ4q_ART",
        "outputId": "82d844db-7c60-4cbd-c116-8e5d03cde93a"
      },
      "execution_count": null,
      "outputs": [
        {
          "output_type": "stream",
          "name": "stdout",
          "text": [
            "Visiting 0\n",
            "Visiting 1\n",
            "Visiting 2\n",
            "Visiting 3\n",
            "Visiting 4\n",
            "Shortest distances: {'0': 0, '1': 1, '2': 2, '3': 4, '4': 5}\n"
          ]
        }
      ]
    },
    {
      "cell_type": "markdown",
      "source": [
        "Time Complexity: `O(E Log V)`, where `E` is the number of edges and `V` is the number of vertices.\n",
        "\n",
        "Space Complexity: `O(V)`"
      ],
      "metadata": {
        "id": "RsoFLS_tDKIG"
      }
    },
    {
      "cell_type": "markdown",
      "source": [
        "**Visualization:**"
      ],
      "metadata": {
        "id": "zNb0cMQ_nhhW"
      }
    },
    {
      "cell_type": "code",
      "source": [
        "import networkx as nx\n",
        "import matplotlib.pyplot as plt\n",
        "from matplotlib.animation import FuncAnimation\n",
        "import heapq\n",
        "import numpy as np"
      ],
      "metadata": {
        "id": "8BEq5j2W4yuQ"
      },
      "execution_count": null,
      "outputs": []
    },
    {
      "cell_type": "code",
      "source": [
        "graph = {\n",
        "    '0': {'1': 4, '2': 2, '5': 3},\n",
        "    '1': {'0': 4, '3': 5, '4': 1, '6': 2},\n",
        "    '2': {'0': 2, '4': 3, '7': 6},\n",
        "    '3': {'1': 5, '8': 2},\n",
        "    '4': {'1': 1, '2': 3, '3': 8, '9': 7},\n",
        "    '5': {'0': 3, '6': 2, '10': 4},\n",
        "    '6': {'1': 2, '5': 2, '7': 1, '11': 5},\n",
        "    '7': {'2': 6, '6': 1, '8': 3, '12': 4},\n",
        "    '8': {'3': 2, '7': 3, '13': 6},\n",
        "    '9': {'4': 7, '14': 4},\n",
        "    '10': {'5': 4},\n",
        "    '11': {'6': 5},\n",
        "    '12': {'7': 4},\n",
        "    '13': {'8': 6},\n",
        "    '14': {'9': 4},\n",
        "}"
      ],
      "metadata": {
        "id": "zhthKsBq40pY"
      },
      "execution_count": null,
      "outputs": []
    },
    {
      "cell_type": "code",
      "source": [
        "G = nx.Graph()\n",
        "for node, neighbors in graph.items():\n",
        "    for neighbor, weight in neighbors.items():\n",
        "        G.add_edge(node, neighbor, weight=weight)"
      ],
      "metadata": {
        "id": "k4bGcGOF42Vy"
      },
      "execution_count": null,
      "outputs": []
    },
    {
      "cell_type": "code",
      "source": [
        "def dijkstra_with_steps(graph, start):\n",
        "    distances = {node: float('infinity') for node in graph}\n",
        "    distances[start] = 0\n",
        "    visited = set()\n",
        "    priority_queue = [(0, start)]\n",
        "    steps = []\n",
        "\n",
        "    while priority_queue:\n",
        "        current_distance, current_node = heapq.heappop(priority_queue)\n",
        "\n",
        "        if current_node in visited:\n",
        "            continue\n",
        "\n",
        "        steps.append({\n",
        "            'node': current_node,\n",
        "            'visited': visited.copy(),\n",
        "            'distances': distances.copy(),\n",
        "            'current_edge': None,\n",
        "            'event': 'visit'\n",
        "        })\n",
        "\n",
        "        visited.add(current_node)\n",
        "\n",
        "        for neighbor, weight in graph[current_node].items():\n",
        "            if neighbor in visited:\n",
        "                continue\n",
        "\n",
        "            distance = current_distance + weight\n",
        "\n",
        "            steps.append({\n",
        "                'node': current_node,\n",
        "                'next_node': neighbor,\n",
        "                'weight': weight,\n",
        "                'old_distance': distances[neighbor],\n",
        "                'new_distance': distance,\n",
        "                'visited': visited.copy(),\n",
        "                'distances': distances.copy(),\n",
        "                'current_edge': (current_node, neighbor),\n",
        "                'event': 'examine'\n",
        "            })\n",
        "\n",
        "            if distance < distances[neighbor]:\n",
        "                distances[neighbor] = distance\n",
        "                heapq.heappush(priority_queue, (distance, neighbor))\n",
        "\n",
        "                steps.append({\n",
        "                    'node': current_node,\n",
        "                    'next_node': neighbor,\n",
        "                    'visited': visited.copy(),\n",
        "                    'distances': distances.copy(),\n",
        "                    'current_edge': (current_node, neighbor),\n",
        "                    'event': 'update'\n",
        "                })\n",
        "\n",
        "    return steps"
      ],
      "metadata": {
        "id": "rrALFYghnjZa"
      },
      "execution_count": null,
      "outputs": []
    },
    {
      "cell_type": "code",
      "source": [
        "traversal_steps = dijkstra_with_steps(graph, '0')\n",
        "\n",
        "plt.figure(figsize=(12, 8))\n",
        "pos = nx.spring_layout(G, seed=42)\n",
        "\n",
        "node_colors = {\n",
        "    'unvisited': 'lightblue',\n",
        "    'visiting': 'orange',\n",
        "    'visited': 'lightgreen'\n",
        "}\n",
        "\n",
        "edge_colors = {\n",
        "    'unvisited': 'gray',\n",
        "    'examining': 'red',\n",
        "    'traversed': 'green',\n",
        "    'updated': 'purple'\n",
        "}"
      ],
      "metadata": {
        "id": "88DnO0uZ46yK"
      },
      "execution_count": null,
      "outputs": []
    },
    {
      "cell_type": "code",
      "source": [
        "def update(frame):\n",
        "    plt.clf()\n",
        "    step = traversal_steps[frame]\n",
        "    current_node = step['node']\n",
        "    visited_nodes = step['visited']\n",
        "    current_edge = step.get('current_edge')\n",
        "    event = step['event']\n",
        "    distances = step['distances']\n",
        "\n",
        "    node_color_map = []\n",
        "    for node in G.nodes():\n",
        "        if node == current_node:\n",
        "            node_color_map.append(node_colors['visiting'])\n",
        "        elif node in visited_nodes:\n",
        "            node_color_map.append(node_colors['visited'])\n",
        "        else:\n",
        "            node_color_map.append(node_colors['unvisited'])\n",
        "\n",
        "    edge_color_map = []\n",
        "    for u, v in G.edges():\n",
        "        if current_edge and ((u, v) == current_edge or (v, u) == current_edge):\n",
        "            if event == 'update':\n",
        "                edge_color_map.append(edge_colors['updated'])\n",
        "            else:\n",
        "                edge_color_map.append(edge_colors['examining'])\n",
        "        elif (u in visited_nodes and v in visited_nodes):\n",
        "            edge_color_map.append(edge_colors['traversed'])\n",
        "        else:\n",
        "            edge_color_map.append(edge_colors['unvisited'])\n",
        "\n",
        "    nx.draw(G, pos, with_labels=True, node_color=node_color_map,\n",
        "            edge_color=edge_color_map, width=2, node_size=700, font_size=18,\n",
        "            font_weight='bold')\n",
        "\n",
        "    edge_labels = nx.get_edge_attributes(G, 'weight')\n",
        "    nx.draw_networkx_edge_labels(G, pos, edge_labels=edge_labels, font_size=14)\n",
        "\n",
        "    distance_labels = {}\n",
        "    for node, dist in distances.items():\n",
        "        if dist == float('infinity'):\n",
        "            distance_labels[node] = \"∞\"\n",
        "        else:\n",
        "            distance_labels[node] = str(dist)\n",
        "\n",
        "    dist_pos = {node: (pos[node][0], pos[node][1] - 0.1) for node in pos}\n",
        "    nx.draw_networkx_labels(G, dist_pos, labels=distance_labels, font_color='red',\n",
        "                           font_size=14, font_weight='bold')\n",
        "\n",
        "    plt.title(f\"Dijkstra's Algorithm - Step {frame+1}/{len(traversal_steps)}\", fontsize=16)\n",
        "\n",
        "    if event == 'visit':\n",
        "        description = f\"Visiting node: {current_node} (distance: {distances[current_node]})\"\n",
        "    elif event == 'examine':\n",
        "        old_dist = \"∞\" if step['old_distance'] == float('infinity') else step['old_distance']\n",
        "        new_dist = step['new_distance']\n",
        "        description = f\"Examining edge {current_node} → {step['next_node']} (weight: {step['weight']}). Distance: {old_dist} vs {new_dist}\"\n",
        "    else:\n",
        "        description = f\"Updating distance to {step['next_node']}: new distance = {distances[step['next_node']]}\"\n",
        "\n",
        "    plt.figtext(0.5, 0.02, description,\n",
        "                ha=\"center\", fontsize=14, bbox={\"facecolor\": \"white\", \"alpha\": 0.5})\n",
        "\n",
        "    legend_elements = [\n",
        "        plt.Line2D([0], [0], marker='o', color='w', markerfacecolor=node_colors['unvisited'], markersize=15, label='Unvisited Node'),\n",
        "        plt.Line2D([0], [0], marker='o', color='w', markerfacecolor=node_colors['visiting'], markersize=15, label='Current Node'),\n",
        "        plt.Line2D([0], [0], marker='o', color='w', markerfacecolor=node_colors['visited'], markersize=15, label='Visited Node'),\n",
        "        plt.Line2D([0], [0], color=edge_colors['unvisited'], lw=2, label='Unvisited Edge'),\n",
        "        plt.Line2D([0], [0], color=edge_colors['examining'], lw=2, label='Examining Edge'),\n",
        "        plt.Line2D([0], [0], color=edge_colors['updated'], lw=2, label='Updated Edge'),\n",
        "        plt.Line2D([0], [0], color=edge_colors['traversed'], lw=2, label='Traversed Edge')\n",
        "    ]\n",
        "\n",
        "    plt.legend(handles=legend_elements, loc='upper right')"
      ],
      "metadata": {
        "id": "k79RWZAb4-dO"
      },
      "execution_count": null,
      "outputs": []
    },
    {
      "cell_type": "code",
      "source": [
        "ani = FuncAnimation(plt.gcf(), update, frames=len(traversal_steps), interval=1500, repeat=True)\n",
        "\n",
        "ani.save('dijkstra_visualization.mp4', writer='ffmpeg', fps=0.7)"
      ],
      "metadata": {
        "id": "NLeaOwnr5G8C"
      },
      "execution_count": null,
      "outputs": []
    },
    {
      "cell_type": "markdown",
      "source": [
        "## Floyd-Warshall Algorithm"
      ],
      "metadata": {
        "id": "auqfG1yrTjIk"
      }
    },
    {
      "cell_type": "markdown",
      "source": [
        "Floyd-Warshall Algorithm is an algorithm for finding the shortest path between all the pairs of vertices in a weighted graph. This algorithm works for both the directed and undirected weighted graphs. But, it does not work for the graphs with negative cycles (where the sum of the edges in a cycle is negative).\n",
        "\n"
      ],
      "metadata": {
        "id": "1BNX01EQTqnl"
      }
    },
    {
      "cell_type": "code",
      "source": [
        "def floyd_warshall(graph):\n",
        "    nodes = list(graph.keys())\n",
        "    num_nodes = len(nodes)\n",
        "\n",
        "    INF = float('inf')\n",
        "    dist = [[INF for _ in range(num_nodes)] for _ in range(num_nodes)]\n",
        "\n",
        "    for u_index, u in enumerate(nodes):\n",
        "        for v_index, v in enumerate(nodes):\n",
        "            if v in graph[u]:\n",
        "                dist[u_index][v_index] = graph[u][v]\n",
        "            if u == v:\n",
        "                dist[u_index][v_index] = 0\n",
        "\n",
        "    for k_index, k in enumerate(nodes):\n",
        "        for i_index, i in enumerate(nodes):\n",
        "            for j_index, j in enumerate(nodes):\n",
        "                dist[i_index][j_index] = min(dist[i_index][j_index], dist[i_index][k_index] + dist[k_index][j_index])\n",
        "\n",
        "    result = {}\n",
        "    for i_index, i in enumerate(nodes):\n",
        "        result[i] = {}\n",
        "        for j_index, j in enumerate(nodes):\n",
        "            result[i][j] = dist[i_index][j_index]\n",
        "\n",
        "    return result"
      ],
      "metadata": {
        "id": "pTy2JriTaNRo"
      },
      "execution_count": null,
      "outputs": []
    },
    {
      "cell_type": "code",
      "source": [
        "graph = {'0': {'1': 1, '2': 2},\n",
        "         '1': {'0': 1, '3': 3, '4': 4},\n",
        "         '2': {'0': 2},\n",
        "         '3': {'1': 3},\n",
        "         '4': {'1': 4, '2': 5}}\n",
        "\n",
        "shortest_distances = floyd_warshall(graph)\n",
        "print(\"Shortest distances:\")\n",
        "for start in shortest_distances:\n",
        "    for end in shortest_distances[start]:\n",
        "        print(f\"{start} -> {end}: {shortest_distances[start][end]}\")"
      ],
      "metadata": {
        "colab": {
          "base_uri": "https://localhost:8080/"
        },
        "id": "Fm50anLPabMF",
        "outputId": "5eecc004-7d7f-4365-b1bd-c51b3fe63c96"
      },
      "execution_count": null,
      "outputs": [
        {
          "output_type": "stream",
          "name": "stdout",
          "text": [
            "Shortest distances:\n",
            "0 -> 0: 0\n",
            "0 -> 1: 1\n",
            "0 -> 2: 2\n",
            "0 -> 3: 4\n",
            "0 -> 4: 5\n",
            "1 -> 0: 1\n",
            "1 -> 1: 0\n",
            "1 -> 2: 3\n",
            "1 -> 3: 3\n",
            "1 -> 4: 4\n",
            "2 -> 0: 2\n",
            "2 -> 1: 3\n",
            "2 -> 2: 0\n",
            "2 -> 3: 6\n",
            "2 -> 4: 7\n",
            "3 -> 0: 4\n",
            "3 -> 1: 3\n",
            "3 -> 2: 6\n",
            "3 -> 3: 0\n",
            "3 -> 4: 7\n",
            "4 -> 0: 5\n",
            "4 -> 1: 4\n",
            "4 -> 2: 5\n",
            "4 -> 3: 7\n",
            "4 -> 4: 0\n"
          ]
        }
      ]
    },
    {
      "cell_type": "markdown",
      "source": [
        "**Optimized Floyd-Warshall:**"
      ],
      "metadata": {
        "id": "5EXbqZb3bKaG"
      }
    },
    {
      "cell_type": "markdown",
      "source": [
        "This version of the Floyd-Warshall Algorithm is more optimized because:\n",
        "\n",
        "1. It uses nested dictionaries (`dist[u][v]`), which provide direct lookups for distances between nodes. This is more efficient and intuitive when working with sparse graphs or when the graph structure aligns naturally with key-value pairs.  \n",
        "\n",
        "2. The `dist` dictionary is initialized directly with distances based on the graph, minimizing redundant operations. Each node initializes distances to infinity (`INF`) for others and explicitly sets the self-distance to 0.  \n"
      ],
      "metadata": {
        "id": "ZRd73J-bbQkB"
      }
    },
    {
      "cell_type": "code",
      "source": [
        "def floyd_warshall_optimized(graph):\n",
        "  nodes = list(graph.keys())\n",
        "  num_nodes = len(nodes)\n",
        "\n",
        "  INF = float('inf')\n",
        "  dist = {node: {other: INF for other in nodes} for node in nodes}\n",
        "\n",
        "  for u in graph:\n",
        "    for v in graph[u]:\n",
        "      dist[u][v] = graph[u][v]\n",
        "    dist[u][u] = 0\n",
        "\n",
        "  for k in nodes:\n",
        "    for i in nodes:\n",
        "      for j in nodes:\n",
        "        dist[i][j] = min(dist[i][j], dist[i][k] + dist[k][j])\n",
        "\n",
        "  return dist"
      ],
      "metadata": {
        "id": "GLIBvi59_IiF"
      },
      "execution_count": null,
      "outputs": []
    },
    {
      "cell_type": "code",
      "source": [
        "graph = {'0': {'1': 1, '2': 2},\n",
        "         '1': {'0': 1, '3': 3, '4': 4},\n",
        "         '2': {'0': 2},\n",
        "         '3': {'1': 3},\n",
        "         '4': {'1': 4, '2': 5}}\n",
        "\n",
        "shortest_distances = floyd_warshall_optimized(graph)\n",
        "print(\"Shortest distances:\")\n",
        "for start in shortest_distances:\n",
        "    for end in shortest_distances[start]:\n",
        "        print(f\"{start} -> {end}: {shortest_distances[start][end]}\")"
      ],
      "metadata": {
        "colab": {
          "base_uri": "https://localhost:8080/"
        },
        "id": "at6W13gHHj59",
        "outputId": "1155e8d0-42a8-4d64-a846-b368c1155a2c"
      },
      "execution_count": null,
      "outputs": [
        {
          "output_type": "stream",
          "name": "stdout",
          "text": [
            "Shortest distances:\n",
            "0 -> 0: 0\n",
            "0 -> 1: 1\n",
            "0 -> 2: 2\n",
            "0 -> 3: 4\n",
            "0 -> 4: 5\n",
            "1 -> 0: 1\n",
            "1 -> 1: 0\n",
            "1 -> 2: 3\n",
            "1 -> 3: 3\n",
            "1 -> 4: 4\n",
            "2 -> 0: 2\n",
            "2 -> 1: 3\n",
            "2 -> 2: 0\n",
            "2 -> 3: 6\n",
            "2 -> 4: 7\n",
            "3 -> 0: 4\n",
            "3 -> 1: 3\n",
            "3 -> 2: 6\n",
            "3 -> 3: 0\n",
            "3 -> 4: 7\n",
            "4 -> 0: 5\n",
            "4 -> 1: 4\n",
            "4 -> 2: 5\n",
            "4 -> 3: 7\n",
            "4 -> 4: 0\n"
          ]
        }
      ]
    },
    {
      "cell_type": "markdown",
      "source": [
        "There are three loops. Each loop has constant complexities. So, the time complexity of the Floyd-Warshall algorithm is `O(n^3)`.\n",
        "\n",
        "The space complexity of the Floyd-Warshall algorithm is `O(n^2)`."
      ],
      "metadata": {
        "id": "XMidHkNLG8bY"
      }
    },
    {
      "cell_type": "markdown",
      "source": [
        "**Visualization:**"
      ],
      "metadata": {
        "id": "I9TasXoxoHnd"
      }
    },
    {
      "cell_type": "code",
      "source": [
        "import networkx as nx\n",
        "import matplotlib.pyplot as plt\n",
        "from matplotlib.animation import FuncAnimation\n",
        "import numpy as np\n",
        "from matplotlib.colors import LinearSegmentedColormap"
      ],
      "metadata": {
        "id": "QyxCOpoP5KUJ"
      },
      "execution_count": null,
      "outputs": []
    },
    {
      "cell_type": "code",
      "source": [
        "graph = {'0': {'1': 1, '2': 2},\n",
        "         '1': {'0': 1, '3': 3, '4': 4},\n",
        "         '2': {'0': 2},\n",
        "         '3': {'1': 3},\n",
        "         '4': {'1': 4, '2': 5}}"
      ],
      "metadata": {
        "id": "kLBpO0-c5LeQ"
      },
      "execution_count": null,
      "outputs": []
    },
    {
      "cell_type": "code",
      "source": [
        "G = nx.Graph()\n",
        "for node in graph:\n",
        "    for neighbor, weight in graph[node].items():\n",
        "        G.add_edge(node, neighbor, weight=weight)"
      ],
      "metadata": {
        "id": "Oz0FBPkX5Mvm"
      },
      "execution_count": null,
      "outputs": []
    },
    {
      "cell_type": "code",
      "source": [
        "def floyd_warshall_with_steps(graph):\n",
        "    nodes = list(graph.keys())\n",
        "    num_nodes = len(nodes)\n",
        "\n",
        "    nodes.sort(key=int)\n",
        "\n",
        "    INF = float('inf')\n",
        "    dist = {node: {other: INF for other in nodes} for node in nodes}\n",
        "\n",
        "    for u in graph:\n",
        "        for v in graph[u]:\n",
        "            dist[u][v] = graph[u][v]\n",
        "        dist[u][u] = 0\n",
        "\n",
        "    steps = [{'k': None, 'i': None, 'j': None, 'dist': {u: {v: dist[u][v] for v in nodes} for u in nodes}, 'description': 'Initial distances'}]\n",
        "\n",
        "    for k in nodes:\n",
        "        for i in nodes:\n",
        "            for j in nodes:\n",
        "                old_dist = dist[i][j]\n",
        "                new_dist = dist[i][k] + dist[k][j]\n",
        "\n",
        "                if new_dist < old_dist:\n",
        "                    dist[i][j] = new_dist\n",
        "                    steps.append({\n",
        "                        'k': k, 'i': i, 'j': j,\n",
        "                        'old_dist': old_dist,\n",
        "                        'new_dist': new_dist,\n",
        "                        'dist': {u: {v: dist[u][v] for v in nodes} for u in nodes},\n",
        "                        'description': f\"Update: dist[{i}][{j}] = min({old_dist}, dist[{i}][{k}] + dist[{k}][{j}]) = min({old_dist}, {dist[i][k]} + {dist[k][j]}) = {new_dist}\"\n",
        "                    })\n",
        "                else:\n",
        "                    steps.append({\n",
        "                        'k': k, 'i': i, 'j': j,\n",
        "                        'old_dist': old_dist,\n",
        "                        'new_dist': new_dist,\n",
        "                        'dist': {u: {v: dist[u][v] for v in nodes} for u in nodes},\n",
        "                        'description': f\"No update: dist[{i}][{j}] = min({old_dist}, dist[{i}][{k}] + dist[{k}][{j}]) = min({old_dist}, {dist[i][k]} + {dist[k][j]}) = {old_dist}\"\n",
        "                    })\n",
        "\n",
        "    return dist, steps"
      ],
      "metadata": {
        "id": "kGhpGcK_5QEG"
      },
      "execution_count": null,
      "outputs": []
    },
    {
      "cell_type": "code",
      "source": [
        "final_distances, steps = floyd_warshall_with_steps(graph)\n",
        "\n",
        "plt.figure(figsize=(14, 10))\n",
        "pos = nx.spring_layout(G, seed=42)\n",
        "\n",
        "node_colors = {\n",
        "    'normal': 'lightblue',\n",
        "    'k_node': 'red',\n",
        "    'i_node': 'orange',\n",
        "    'j_node': 'green',\n",
        "    'path': 'purple'\n",
        "}\n",
        "\n",
        "edge_colors = {\n",
        "    'default': 'gray',\n",
        "    'path': 'blue',\n",
        "    'improved': 'green'\n",
        "}\n",
        "\n",
        "cmap = LinearSegmentedColormap.from_list('custom_cmap', ['#ffffff', '#f0f9e8', '#7bccc4', '#0868ac'])"
      ],
      "metadata": {
        "id": "x1g1cr5l5YDv"
      },
      "execution_count": null,
      "outputs": []
    },
    {
      "cell_type": "code",
      "source": [
        "def update(frame):\n",
        "    plt.clf()\n",
        "    step = steps[frame]\n",
        "\n",
        "    plt.subplot(1, 2, 1)\n",
        "\n",
        "    node_color_map = [node_colors['normal'] for _ in G.nodes()]\n",
        "    if frame > 0:\n",
        "        k = step['k']\n",
        "        i = step['i']\n",
        "        j = step['j']\n",
        "\n",
        "        k_idx = list(G.nodes()).index(k) if k in G.nodes() else -1\n",
        "        i_idx = list(G.nodes()).index(i) if i in G.nodes() else -1\n",
        "        j_idx = list(G.nodes()).index(j) if j in G.nodes() else -1\n",
        "\n",
        "        if k_idx >= 0:\n",
        "            node_color_map[k_idx] = node_colors['k_node']\n",
        "        if i_idx >= 0:\n",
        "            node_color_map[i_idx] = node_colors['i_node']\n",
        "        if j_idx >= 0:\n",
        "            node_color_map[j_idx] = node_colors['j_node']\n",
        "\n",
        "    nx.draw(G, pos, with_labels=True, node_color=node_color_map,\n",
        "            edge_color=edge_colors['default'], width=1.5,\n",
        "            node_size=700, font_size=12, font_weight='bold')\n",
        "\n",
        "    if frame > 0:\n",
        "        k = step['k']\n",
        "        i = step['i']\n",
        "        j = step['j']\n",
        "\n",
        "        if G.has_edge(i, j):\n",
        "            nx.draw_networkx_edges(G, pos, edgelist=[(i, j)],\n",
        "                                  width=3, edge_color=edge_colors['path'])\n",
        "\n",
        "        if G.has_edge(i, k) and G.has_edge(k, j):\n",
        "            nx.draw_networkx_edges(G, pos, edgelist=[(i, k), (k, j)],\n",
        "                                  width=3, edge_color=edge_colors['improved']\n",
        "                                  if step['new_dist'] < step['old_dist'] else edge_colors['path'])\n",
        "\n",
        "    plt.title(f\"Floyd-Warshall Algorithm - Step {frame+1}/{len(steps)}\", fontsize=14)\n",
        "\n",
        "    legend_elements = [\n",
        "        plt.Line2D([0], [0], marker='o', color='w', markerfacecolor=node_colors['normal'], markersize=10, label='Regular Node'),\n",
        "        plt.Line2D([0], [0], marker='o', color='w', markerfacecolor=node_colors['k_node'], markersize=10, label='k Node (Intermediate)'),\n",
        "        plt.Line2D([0], [0], marker='o', color='w', markerfacecolor=node_colors['i_node'], markersize=10, label='i Node (From)'),\n",
        "        plt.Line2D([0], [0], marker='o', color='w', markerfacecolor=node_colors['j_node'], markersize=10, label='j Node (To)'),\n",
        "        plt.Line2D([0], [0], color=edge_colors['default'], lw=2, label='Edge'),\n",
        "        plt.Line2D([0], [0], color=edge_colors['path'], lw=2, label='Current Path'),\n",
        "        plt.Line2D([0], [0], color=edge_colors['improved'], lw=2, label='Improved Path')\n",
        "    ]\n",
        "    plt.legend(handles=legend_elements, loc='upper left', bbox_to_anchor=(0, -0.05), ncol=4)\n",
        "\n",
        "    plt.subplot(1, 2, 2)\n",
        "\n",
        "    nodes = sorted(graph.keys(), key=int)\n",
        "    num_nodes = len(nodes)\n",
        "\n",
        "    dist_matrix = np.zeros((num_nodes, num_nodes))\n",
        "    for i_idx, i_node in enumerate(nodes):\n",
        "        for j_idx, j_node in enumerate(nodes):\n",
        "            value = step['dist'][i_node][j_node]\n",
        "            dist_matrix[i_idx, j_idx] = value if value != float('inf') else np.nan\n",
        "\n",
        "    im = plt.imshow(dist_matrix, cmap=cmap, vmin=0, vmax=np.nanmax(dist_matrix))\n",
        "\n",
        "    plt.colorbar(im, label=\"Distance\")\n",
        "\n",
        "    plt.xlabel(\"To Node\")\n",
        "    plt.ylabel(\"From Node\")\n",
        "    plt.title(\"Distance Matrix\", fontsize=14)\n",
        "\n",
        "    plt.xticks(range(num_nodes), nodes)\n",
        "    plt.yticks(range(num_nodes), nodes)\n",
        "\n",
        "    for i_idx, i_node in enumerate(nodes):\n",
        "        for j_idx, j_node in enumerate(nodes):\n",
        "            value = step['dist'][i_node][j_node]\n",
        "            text = \"∞\" if value == float('inf') else str(int(value))\n",
        "            color = \"white\" if value > 3 and value != float('inf') else \"black\"\n",
        "            plt.text(j_idx, i_idx, text, ha=\"center\", va=\"center\", color=color)\n",
        "\n",
        "    if frame > 0:\n",
        "        k_idx = nodes.index(step['k'])\n",
        "        i_idx = nodes.index(step['i'])\n",
        "        j_idx = nodes.index(step['j'])\n",
        "\n",
        "        plt.plot(j_idx, i_idx, 'o', markersize=20, mfc='none', mec='red', mew=2)\n",
        "\n",
        "        plt.plot(k_idx, i_idx, 'o', markersize=15, mfc='none', mec='orange', mew=2)  # i->k\n",
        "        plt.plot(j_idx, k_idx, 'o', markersize=15, mfc='none', mec='orange', mew=2)  # k->j\n",
        "\n",
        "    plt.figtext(0.5, 0.01, step['description'], ha=\"center\", fontsize=12,\n",
        "                bbox={\"facecolor\": \"white\", \"alpha\": 0.8, \"pad\": 5})\n",
        "\n",
        "    plt.tight_layout(rect=[0, 0.05, 1, 0.95])\n",
        "\n"
      ],
      "metadata": {
        "colab": {
          "base_uri": "https://localhost:8080/"
        },
        "id": "q6e5S3LboML3",
        "outputId": "15aceb81-2f16-4a35-ffb1-9ab1999f2f45"
      },
      "execution_count": 7,
      "outputs": [
        {
          "output_type": "stream",
          "name": "stdout",
          "text": [
            "Animation saved as 'floyd_warshall_visualization.mp4'\n"
          ]
        }
      ]
    },
    {
      "cell_type": "code",
      "source": [
        "ani = FuncAnimation(plt.gcf(), update, frames=len(steps), interval=1500, repeat=True)\n",
        "\n",
        "ani.save('floyd_warshall_visualization.mp4', writer='ffmpeg', fps=1)"
      ],
      "metadata": {
        "id": "nbUyfacx5jp6"
      },
      "execution_count": null,
      "outputs": []
    }
  ]
}