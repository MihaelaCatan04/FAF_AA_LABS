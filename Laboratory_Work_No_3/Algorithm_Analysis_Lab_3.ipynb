{
  "nbformat": 4,
  "nbformat_minor": 0,
  "metadata": {
    "colab": {
      "provenance": [],
      "authorship_tag": "ABX9TyMheheGOZA1f1TsmHpXUTYK",
      "include_colab_link": true
    },
    "kernelspec": {
      "name": "python3",
      "display_name": "Python 3"
    },
    "language_info": {
      "name": "python"
    }
  },
  "cells": [
    {
      "cell_type": "markdown",
      "metadata": {
        "id": "view-in-github",
        "colab_type": "text"
      },
      "source": [
        "<a href=\"https://colab.research.google.com/github/MihaelaCatan04/FAF_AA_LABS/blob/main/Laboratory_Work_No_3/Algorithm_Analysis_Lab_3.ipynb\" target=\"_parent\"><img src=\"https://colab.research.google.com/assets/colab-badge.svg\" alt=\"Open In Colab\"/></a>"
      ]
    },
    {
      "cell_type": "markdown",
      "source": [
        "## Depth First Search Algorithm"
      ],
      "metadata": {
        "id": "5vgiwXLRhRYQ"
      }
    },
    {
      "cell_type": "markdown",
      "source": [
        "Depth first Search or Depth first traversal is a recursive algorithm for searching all the vertices of a graph or tree data structure. Traversal means visiting all the nodes of a graph."
      ],
      "metadata": {
        "id": "I2UrzYp7HNEG"
      }
    },
    {
      "cell_type": "markdown",
      "source": [
        "A standard DFS implementation puts each vertex of the graph into one of two categories:\n",
        "\n",
        "\n",
        "*   Visited\n",
        "*   Not visited\n",
        "\n",
        "The purpose of the algorithm is to mark each vertex as visited while avoiding cycles.\n",
        "\n",
        "The DFS algorithm works as follows:\n",
        "\n",
        "1. Start by putting any one of the graph's vertices on top of a stack.\n",
        "2. Take the top item of the stack and add it to the visited list.\n",
        "3. Create a list of that vertex's adjacent nodes. Add the ones which aren't in the visited list to the top of the stack.\n",
        "4. Keep repeating steps 2 and 3 until the stack is empty.\n"
      ],
      "metadata": {
        "id": "FaGaFqljHRlz"
      }
    },
    {
      "cell_type": "code",
      "source": [
        "def dfs(graph, start, visited=None):\n",
        "    if visited is None:\n",
        "        visited = []\n",
        "    visited.append(start)\n",
        "    print(\"Visiting\", start)\n",
        "    for next in graph[start]:\n",
        "        if next not in visited:\n",
        "            dfs(graph, next, visited)\n",
        "    return visited"
      ],
      "metadata": {
        "id": "3TpZdaV2G1L1"
      },
      "execution_count": null,
      "outputs": []
    },
    {
      "cell_type": "code",
      "source": [
        "graph = {'0': set(['1', '2']),\n",
        "         '1': set(['0', '3', '4']),\n",
        "         '2': set(['0']),\n",
        "         '3': set(['1']),\n",
        "         '4': set(['2', '3'])}\n",
        "\n",
        "dfs(graph, '0')"
      ],
      "metadata": {
        "colab": {
          "base_uri": "https://localhost:8080/"
        },
        "id": "Ityo8xnQIK0V",
        "outputId": "8010ecc4-34b8-42fc-c030-04b76139b64b"
      },
      "execution_count": null,
      "outputs": [
        {
          "output_type": "stream",
          "name": "stdout",
          "text": [
            "Visiting 0\n",
            "Visiting 2\n",
            "Visiting 1\n",
            "Visiting 4\n",
            "Visiting 3\n"
          ]
        },
        {
          "output_type": "execute_result",
          "data": {
            "text/plain": [
              "['0', '2', '1', '4', '3']"
            ]
          },
          "metadata": {},
          "execution_count": 19
        }
      ]
    },
    {
      "cell_type": "markdown",
      "source": [
        "**Optimized DFS:**"
      ],
      "metadata": {
        "id": "JzGQ_FJ9HrXH"
      }
    },
    {
      "cell_type": "markdown",
      "source": [
        "This version of DFS is optimized because:\n",
        "\n",
        "1. This version uses a `set` to track visited nodes, allowing for constant-time (O(1)) membership checks, which speeds up the process of determining whether a node has already been visited.\n",
        "\n",
        "2. By subtracting the `visited` set from `graph[start]`, your version directly excludes already-visited nodes, avoiding unnecessary checks during iteration.\n"
      ],
      "metadata": {
        "id": "IQrSOmFDITNz"
      }
    },
    {
      "cell_type": "code",
      "execution_count": 79,
      "metadata": {
        "id": "By3wVtohfHQn"
      },
      "outputs": [],
      "source": [
        "def dfs_optimized(graph, start, visited=None):\n",
        "  if visited is None:\n",
        "    visited = set()\n",
        "  visited.add(start)\n",
        "  print(\"Visiting\", start)\n",
        "  for next in graph[start] - visited:\n",
        "    dfs_optimized(graph, next, visited)\n",
        "  return visited"
      ]
    },
    {
      "cell_type": "code",
      "source": [
        "graph = {'0': set(['1', '2']),\n",
        "         '1': set(['0', '3', '4']),\n",
        "         '2': set(['0']),\n",
        "         '3': set(['1']),\n",
        "         '4': set(['2', '3'])}\n",
        "\n",
        "dfs_optimized(graph, '0')"
      ],
      "metadata": {
        "colab": {
          "base_uri": "https://localhost:8080/"
        },
        "id": "e2cWqzuIhqxI",
        "outputId": "f094e853-a593-42fe-94ee-5bb75b337fb4"
      },
      "execution_count": 80,
      "outputs": [
        {
          "output_type": "stream",
          "name": "stdout",
          "text": [
            "Visiting 0\n",
            "Visiting 2\n",
            "Visiting 1\n",
            "Visiting 4\n",
            "Visiting 3\n",
            "Visiting 3\n"
          ]
        },
        {
          "output_type": "execute_result",
          "data": {
            "text/plain": [
              "{'0', '1', '2', '3', '4'}"
            ]
          },
          "metadata": {},
          "execution_count": 80
        }
      ]
    },
    {
      "cell_type": "markdown",
      "source": [
        "The time complexity of the DFS algorithm is represented in the form of `O(V + E)`, where `V` is the number of nodes and `E` is the number of edges.\n",
        "\n",
        "The space complexity of the algorithm is `O(V)`."
      ],
      "metadata": {
        "id": "q1Gf2tgzmodY"
      }
    },
    {
      "cell_type": "markdown",
      "source": [
        "**Visualization:**"
      ],
      "metadata": {
        "id": "YzWMv9dNgZ9D"
      }
    },
    {
      "cell_type": "code",
      "source": [
        "import networkx as nx\n",
        "import matplotlib.pyplot as plt\n",
        "from matplotlib.animation import FuncAnimation\n",
        "from collections import deque"
      ],
      "metadata": {
        "id": "0vDyax8U34kP"
      },
      "execution_count": null,
      "outputs": []
    },
    {
      "cell_type": "code",
      "source": [
        "graph = {\n",
        "    '0': set(['1', '2', '5']),\n",
        "    '1': set(['0', '3', '4', '6']),\n",
        "    '2': set(['0', '4', '7']),\n",
        "    '3': set(['1', '8']),\n",
        "    '4': set(['1', '2', '3', '9']),\n",
        "    '5': set(['0', '6', '10']),\n",
        "    '6': set(['1', '5', '7', '11']),\n",
        "    '7': set(['2', '6', '8', '12']),\n",
        "    '8': set(['3', '7', '13']),\n",
        "    '9': set(['4', '14']),\n",
        "    '10': set(['5']),\n",
        "    '11': set(['6']),\n",
        "    '12': set(['7']),\n",
        "    '13': set(['8']),\n",
        "    '14': set(['9']),\n",
        "}"
      ],
      "metadata": {
        "id": "iFnazais38Ea"
      },
      "execution_count": null,
      "outputs": []
    },
    {
      "cell_type": "code",
      "source": [
        "G = nx.Graph()\n",
        "for node, neighbors in graph.items():\n",
        "    for neighbor in neighbors:\n",
        "        G.add_edge(node, neighbor)"
      ],
      "metadata": {
        "id": "aokG-m_83-Bm"
      },
      "execution_count": null,
      "outputs": []
    },
    {
      "cell_type": "code",
      "source": [
        "def dfs_with_steps(graph, start):\n",
        "    visited = set()\n",
        "    steps = []\n",
        "\n",
        "    def dfs(node):\n",
        "        visited.add(node)\n",
        "        steps.append({\n",
        "            'node': node,\n",
        "            'visited': visited.copy(),\n",
        "            'current_edge': None,\n",
        "            'event': 'visit'\n",
        "        })\n",
        "\n",
        "        for neighbor in graph[node]:\n",
        "            if neighbor not in visited:\n",
        "                steps.append({\n",
        "                    'node': node,\n",
        "                    'next_node': neighbor,\n",
        "                    'visited': visited.copy(),\n",
        "                    'current_edge': (node, neighbor),\n",
        "                    'event': 'traverse'\n",
        "                })\n",
        "                dfs(neighbor)\n",
        "\n",
        "    dfs(start)\n",
        "    return steps"
      ],
      "metadata": {
        "id": "NeqWF3js4AAE"
      },
      "execution_count": null,
      "outputs": []
    },
    {
      "cell_type": "code",
      "source": [
        "traversal_steps = dfs_with_steps(graph, '0')\n",
        "\n",
        "plt.figure(figsize=(12, 8))\n",
        "pos = nx.spring_layout(G, seed=42)\n",
        "\n",
        "node_colors = {\n",
        "    'unvisited': 'lightblue',\n",
        "    'visiting': 'orange',\n",
        "    'visited': 'lightgreen'\n",
        "}\n",
        "\n",
        "edge_colors = {\n",
        "    'unvisited': 'gray',\n",
        "    'traversing': 'red',\n",
        "    'traversed': 'green'\n",
        "}"
      ],
      "metadata": {
        "id": "4KUerZK44Cwi"
      },
      "execution_count": null,
      "outputs": []
    },
    {
      "cell_type": "code",
      "source": [
        "def update(frame):\n",
        "    plt.clf()\n",
        "    step = traversal_steps[frame]\n",
        "    current_node = step['node']\n",
        "    visited_nodes = step['visited']\n",
        "    current_edge = step.get('current_edge')\n",
        "    event = step['event']\n",
        "\n",
        "    node_color_map = []\n",
        "    for node in G.nodes():\n",
        "        if node == current_node:\n",
        "            node_color_map.append(node_colors['visiting'])\n",
        "        elif node in visited_nodes:\n",
        "            node_color_map.append(node_colors['visited'])\n",
        "        else:\n",
        "            node_color_map.append(node_colors['unvisited'])\n",
        "\n",
        "    edge_color_map = []\n",
        "    for u, v in G.edges():\n",
        "        if current_edge and ((u, v) == current_edge or (v, u) == current_edge):\n",
        "            edge_color_map.append(edge_colors['traversing'])\n",
        "        elif u in visited_nodes and v in visited_nodes:\n",
        "            edge_color_map.append(edge_colors['traversed'])\n",
        "        else:\n",
        "            edge_color_map.append(edge_colors['unvisited'])\n",
        "\n",
        "    nx.draw(G, pos, with_labels=True, node_color=node_color_map,\n",
        "            edge_color=edge_color_map, width=2, node_size=700, font_size=18,\n",
        "            font_weight='bold')\n",
        "\n",
        "    plt.title(f\"DFS Traversal - Step {frame+1}/{len(traversal_steps)}\", fontsize=16)\n",
        "\n",
        "    if event == 'visit':\n",
        "        description = f\"Visiting node: {current_node}\"\n",
        "    else:\n",
        "        description = f\"Traversing from {current_node} to {step['next_node']}\"\n",
        "\n",
        "    plt.figtext(0.5, 0.02, description,\n",
        "                ha=\"center\", fontsize=14, bbox={\"facecolor\": \"white\", \"alpha\": 0.5})\n",
        "\n",
        "    legend_elements = [\n",
        "        plt.Line2D([0], [0], marker='o', color='w', markerfacecolor=node_colors['unvisited'], markersize=15, label='Unvisited Node'),\n",
        "        plt.Line2D([0], [0], marker='o', color='w', markerfacecolor=node_colors['visiting'], markersize=15, label='Current Node'),\n",
        "        plt.Line2D([0], [0], marker='o', color='w', markerfacecolor=node_colors['visited'], markersize=15, label='Visited Node'),\n",
        "        plt.Line2D([0], [0], color=edge_colors['unvisited'], lw=2, label='Unvisited Edge'),\n",
        "        plt.Line2D([0], [0], color=edge_colors['traversing'], lw=2, label='Current Edge'),\n",
        "        plt.Line2D([0], [0], color=edge_colors['traversed'], lw=2, label='Traversed Edge')\n",
        "    ]\n",
        "\n",
        "    plt.legend(handles=legend_elements, loc='upper right')\n",
        "\n"
      ],
      "metadata": {
        "id": "Dmtk3PC6nJYg"
      },
      "execution_count": null,
      "outputs": []
    },
    {
      "cell_type": "code",
      "source": [
        "ani = FuncAnimation(plt.gcf(), update, frames=len(traversal_steps), interval=1000, repeat=True)\n",
        "\n",
        "ani.save('dfs_traversal.mp4', writer='ffmpeg', fps=1)"
      ],
      "metadata": {
        "id": "Tos1Iec84I9A"
      },
      "execution_count": null,
      "outputs": []
    },
    {
      "cell_type": "markdown",
      "source": [
        "## Breadth First Search Algorithm"
      ],
      "metadata": {
        "id": "GzYoO-o9oeii"
      }
    },
    {
      "cell_type": "markdown",
      "source": [
        "Traversal means visiting all the nodes of a graph. Breadth First Traversal or Breadth First Search is a recursive algorithm for searching all the vertices of a graph or tree data structure."
      ],
      "metadata": {
        "id": "u5lx34UuH2Je"
      }
    },
    {
      "cell_type": "markdown",
      "source": [
        "A standard BFS implementation puts each vertex of the graph into one of two categories:\n",
        "\n",
        "\n",
        "\n",
        "*   Visited\n",
        "*   Not visited\n",
        "\n",
        "\n",
        "The purpose of the algorithm is to mark each vertex as visited while avoiding cycles.\n",
        "\n",
        "The algorithm works as follows:\n",
        "\n",
        "1. Start by putting any one of the graph's vertices at the back of a queue.\n",
        "2. Take the front item of the queue and add it to the visited list.\n",
        "3. Create a list of that vertex's adjacent nodes. Add the ones which aren't in the visited list to the back of the queue.\n",
        "4. Keep repeating steps 2 and 3 until the queue is empty.\n",
        "\n",
        "The graph might have two different disconnected parts so to make sure that we cover every vertex, we can also run the BFS algorithm on every node"
      ],
      "metadata": {
        "id": "OzJa5K5HIo7m"
      }
    },
    {
      "cell_type": "code",
      "source": [
        "from collections import deque"
      ],
      "metadata": {
        "id": "F0lOc3S4JJV8"
      },
      "execution_count": null,
      "outputs": []
    },
    {
      "cell_type": "code",
      "source": [
        "def bfs(graph, start):\n",
        "    visited = []\n",
        "    queue = deque([start])\n",
        "\n",
        "    while queue:\n",
        "        node = queue.popleft()\n",
        "        if node not in visited:\n",
        "            print(\"Visiting\", node)\n",
        "            visited.append(node)\n",
        "            queue.extend(graph[node])\n",
        "\n",
        "    return visited"
      ],
      "metadata": {
        "id": "9GcAgyZOJHws"
      },
      "execution_count": null,
      "outputs": []
    },
    {
      "cell_type": "code",
      "source": [
        "graph = {'0': set(['1', '2']),\n",
        "         '1': set(['0', '3', '4']),\n",
        "         '2': set(['0']),\n",
        "         '3': set(['1']),\n",
        "         '4': set(['2', '3'])}\n",
        "\n",
        "bfs(graph, '0')"
      ],
      "metadata": {
        "colab": {
          "base_uri": "https://localhost:8080/"
        },
        "id": "upiZYAqOJU7b",
        "outputId": "8d66fd04-b966-4041-d9ab-9ae9b1eb7ea7"
      },
      "execution_count": null,
      "outputs": [
        {
          "output_type": "stream",
          "name": "stdout",
          "text": [
            "Visiting 0\n",
            "Visiting 2\n",
            "Visiting 1\n",
            "Visiting 4\n",
            "Visiting 3\n"
          ]
        },
        {
          "output_type": "execute_result",
          "data": {
            "text/plain": [
              "['0', '2', '1', '4', '3']"
            ]
          },
          "metadata": {},
          "execution_count": 37
        }
      ]
    },
    {
      "cell_type": "markdown",
      "source": [
        "**Optimized BFS:**"
      ],
      "metadata": {
        "id": "j63suH_1Jb4F"
      }
    },
    {
      "cell_type": "markdown",
      "source": [
        "This version of BFS is optimized:\n",
        "\n",
        "1. `visited` is a set. Checking membership (`if node not in visited`) in a set\n",
        "   is faster because it's implemented as a hash table, resulting in \\(O(1)\\) time complexity.\n",
        "\n",
        "2. This version avoids redundancy by adding into the queue only the unvisited nodes `queue.extend(graph[node] - visited)`."
      ],
      "metadata": {
        "id": "eKVU3IXoJgza"
      }
    },
    {
      "cell_type": "code",
      "source": [
        "from collections import deque"
      ],
      "metadata": {
        "id": "dgjnMXLmoheR"
      },
      "execution_count": null,
      "outputs": []
    },
    {
      "cell_type": "code",
      "source": [
        "def bfs_optimized(graph, start):\n",
        "    visited = set()\n",
        "    queue = deque([start])\n",
        "\n",
        "    while queue:\n",
        "        node = queue.popleft()\n",
        "        if node not in visited:\n",
        "            print(\"Visiting\", node)\n",
        "            visited.add(node)\n",
        "            queue.extend(graph[node] - visited)\n",
        "\n",
        "    return visited"
      ],
      "metadata": {
        "id": "kGOSx3uzojT6"
      },
      "execution_count": null,
      "outputs": []
    },
    {
      "cell_type": "code",
      "source": [
        "graph = {'0': set(['1', '2']),\n",
        "         '1': set(['0', '3', '4']),\n",
        "         '2': set(['0']),\n",
        "         '3': set(['1']),\n",
        "         '4': set(['2', '3'])}\n",
        "\n",
        "bfs_optimized(graph, '0')"
      ],
      "metadata": {
        "colab": {
          "base_uri": "https://localhost:8080/"
        },
        "id": "xVILKpwNiTlo",
        "outputId": "80bd3e77-7ddd-44aa-a948-ab20d2c0a81d"
      },
      "execution_count": null,
      "outputs": [
        {
          "output_type": "stream",
          "name": "stdout",
          "text": [
            "Visiting 0\n",
            "Visiting 2\n",
            "Visiting 1\n",
            "Visiting 4\n",
            "Visiting 3\n"
          ]
        },
        {
          "output_type": "execute_result",
          "data": {
            "text/plain": [
              "{'0', '1', '2', '3', '4'}"
            ]
          },
          "metadata": {},
          "execution_count": 48
        }
      ]
    },
    {
      "cell_type": "markdown",
      "source": [
        "The time complexity of the BFS algorithm is represented in the form of `O(V + E)`, where `V` is the number of nodes and `E` is the number of edges.\n",
        "\n",
        "The space complexity of the algorithm is `O(V)`."
      ],
      "metadata": {
        "id": "1Qji6Ep5p5Q0"
      }
    },
    {
      "cell_type": "markdown",
      "source": [
        "**Visualization:**"
      ],
      "metadata": {
        "id": "K85I-MSzlOUi"
      }
    },
    {
      "cell_type": "code",
      "source": [
        "import networkx as nx\n",
        "import matplotlib.pyplot as plt\n",
        "from matplotlib.animation import FuncAnimation\n",
        "from collections import deque"
      ],
      "metadata": {
        "id": "IG3twQNf4Ovx"
      },
      "execution_count": null,
      "outputs": []
    },
    {
      "cell_type": "code",
      "source": [
        "graph = {\n",
        "    '0': set(['1', '2', '5']),\n",
        "    '1': set(['0', '3', '4', '6']),\n",
        "    '2': set(['0', '4', '7']),\n",
        "    '3': set(['1', '8']),\n",
        "    '4': set(['1', '2', '3', '9']),\n",
        "    '5': set(['0', '6', '10']),\n",
        "    '6': set(['1', '5', '7', '11']),\n",
        "    '7': set(['2', '6', '8', '12']),\n",
        "    '8': set(['3', '7', '13']),\n",
        "    '9': set(['4', '14']),\n",
        "    '10': set(['5']),\n",
        "    '11': set(['6']),\n",
        "    '12': set(['7']),\n",
        "    '13': set(['8']),\n",
        "    '14': set(['9']),\n",
        "}"
      ],
      "metadata": {
        "id": "jCjdNBn04QJj"
      },
      "execution_count": null,
      "outputs": []
    },
    {
      "cell_type": "code",
      "source": [
        "G = nx.Graph()\n",
        "for node, neighbors in graph.items():\n",
        "    for neighbor in neighbors:\n",
        "        G.add_edge(node, neighbor)"
      ],
      "metadata": {
        "id": "V2D-kCsV4ReD"
      },
      "execution_count": null,
      "outputs": []
    },
    {
      "cell_type": "code",
      "source": [
        "def bfs_with_steps(graph, start):\n",
        "    visited = set()\n",
        "    queue = deque([start])\n",
        "    steps = []\n",
        "\n",
        "    while queue:\n",
        "        node = queue.popleft()\n",
        "        if node not in visited:\n",
        "            steps.append({\n",
        "                'node': node,\n",
        "                'visited': visited.copy(),\n",
        "                'current_edge': None,\n",
        "                'event': 'visit'\n",
        "            })\n",
        "            visited.add(node)\n",
        "\n",
        "            for neighbor in graph[node] - visited:\n",
        "                steps.append({\n",
        "                    'node': node,\n",
        "                    'next_node': neighbor,\n",
        "                    'visited': visited.copy(),\n",
        "                    'current_edge': (node, neighbor),\n",
        "                    'event': 'enqueue'\n",
        "                })\n",
        "                queue.append(neighbor)\n",
        "\n",
        "    return steps"
      ],
      "metadata": {
        "id": "9PZWlaIn4UN7"
      },
      "execution_count": null,
      "outputs": []
    },
    {
      "cell_type": "code",
      "source": [
        "traversal_steps = bfs_with_steps(graph, '0')\n",
        "\n",
        "plt.figure(figsize=(12, 8))\n",
        "pos = nx.spring_layout(G, seed=42)\n",
        "\n",
        "node_colors = {\n",
        "    'unvisited': 'lightblue',\n",
        "    'visiting': 'orange',\n",
        "    'visited': 'lightgreen'\n",
        "}\n",
        "\n",
        "edge_colors = {\n",
        "    'unvisited': 'gray',\n",
        "    'traversing': 'red',\n",
        "    'traversed': 'green'\n",
        "}"
      ],
      "metadata": {
        "id": "dFTuLxLX4WM9"
      },
      "execution_count": null,
      "outputs": []
    },
    {
      "cell_type": "code",
      "source": [
        "def update(frame):\n",
        "    plt.clf()\n",
        "    step = traversal_steps[frame]\n",
        "    current_node = step['node']\n",
        "    visited_nodes = step['visited']\n",
        "    current_edge = step.get('current_edge')\n",
        "    event = step['event']\n",
        "\n",
        "    node_color_map = []\n",
        "    for node in G.nodes():\n",
        "        if node == current_node:\n",
        "            node_color_map.append(node_colors['visiting'])\n",
        "        elif node in visited_nodes:\n",
        "            node_color_map.append(node_colors['visited'])\n",
        "        else:\n",
        "            node_color_map.append(node_colors['unvisited'])\n",
        "\n",
        "    edge_color_map = []\n",
        "    for u, v in G.edges():\n",
        "        if current_edge and ((u, v) == current_edge or (v, u) == current_edge):\n",
        "            edge_color_map.append(edge_colors['traversing'])\n",
        "        elif u in visited_nodes and v in visited_nodes:\n",
        "            edge_color_map.append(edge_colors['traversed'])\n",
        "        else:\n",
        "            edge_color_map.append(edge_colors['unvisited'])\n",
        "\n",
        "    nx.draw(G, pos, with_labels=True, node_color=node_color_map,\n",
        "            edge_color=edge_color_map, width=2, node_size=700, font_size=18,\n",
        "            font_weight='bold')\n",
        "\n",
        "    plt.title(f\"BFS Traversal - Step {frame+1}/{len(traversal_steps)}\", fontsize=16)\n",
        "\n",
        "    if event == 'visit':\n",
        "        description = f\"Visiting node: {current_node}\"\n",
        "    else:\n",
        "        description = f\"Queueing node: {step['next_node']} from {current_node}\"\n",
        "\n",
        "    plt.figtext(0.5, 0.02, description,\n",
        "                ha=\"center\", fontsize=14, bbox={\"facecolor\": \"white\", \"alpha\": 0.5})\n",
        "\n",
        "    legend_elements = [\n",
        "        plt.Line2D([0], [0], marker='o', color='w', markerfacecolor=node_colors['unvisited'], markersize=15, label='Unvisited Node'),\n",
        "        plt.Line2D([0], [0], marker='o', color='w', markerfacecolor=node_colors['visiting'], markersize=15, label='Current Node'),\n",
        "        plt.Line2D([0], [0], marker='o', color='w', markerfacecolor=node_colors['visited'], markersize=15, label='Visited Node'),\n",
        "        plt.Line2D([0], [0], color=edge_colors['unvisited'], lw=2, label='Unvisited Edge'),\n",
        "        plt.Line2D([0], [0], color=edge_colors['traversing'], lw=2, label='Current Edge'),\n",
        "        plt.Line2D([0], [0], color=edge_colors['traversed'], lw=2, label='Traversed Edge')\n",
        "    ]\n",
        "\n",
        "    plt.legend(handles=legend_elements, loc='upper right')"
      ],
      "metadata": {
        "colab": {
          "base_uri": "https://localhost:8080/",
          "height": 452
        },
        "collapsed": true,
        "id": "y7pd2fsIlQM1",
        "outputId": "017bde6f-dba2-4167-9f19-e1ebc2e636c2"
      },
      "execution_count": 104,
      "outputs": [
        {
          "output_type": "display_data",
          "data": {
            "text/plain": [
              "<Figure size 1200x800 with 1 Axes>"
            ],
            "image/png": "[encoded data removed]"
          },
          "metadata": {}
        }
      ]
    },
    {
      "cell_type": "code",
      "source": [
        "ani = FuncAnimation(plt.gcf(), update, frames=len(traversal_steps), interval=1000, repeat=True)\n",
        "\n",
        "ani.save('bfs_traversal.mp4', writer='ffmpeg', fps=1)"
      ],
      "metadata": {
        "id": "--PxPwse4ZK1"
      },
      "execution_count": null,
      "outputs": []
    }
  ]
}